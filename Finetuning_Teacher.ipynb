{
 "cells": [
  {
   "cell_type": "code",
   "execution_count": 1,
   "metadata": {
    "id": "gUANyJLiuCZI"
   },
   "outputs": [],
   "source": [
    "!pip3 -q install datasets transformers evaluate huggingface_hub bitsandbytes"
   ]
  },
  {
   "cell_type": "code",
   "execution_count": 2,
   "metadata": {
    "colab": {
     "base_uri": "https://localhost:8080/"
    },
    "id": "FIRoa6IpuG7l",
    "outputId": "ccdbec68-3ca9-4560-a20d-ad2014c64261"
   },
   "outputs": [
    {
     "name": "stdout",
     "output_type": "stream",
     "text": [
      "\u001b[2K     \u001b[90m━━━━━━━━━━━━━━━━━━━━━━━━━━━━━━━━━━━━━━━━\u001b[0m \u001b[32m44.0/44.0 kB\u001b[0m \u001b[31m3.4 MB/s\u001b[0m eta \u001b[36m0:00:00\u001b[0m\n",
      "\u001b[2K   \u001b[90m━━━━━━━━━━━━━━━━━━━━━━━━━━━━━━━━━━━━━━━━\u001b[0m \u001b[32m10.0/10.0 MB\u001b[0m \u001b[31m37.5 MB/s\u001b[0m eta \u001b[36m0:00:00\u001b[0m\n",
      "\u001b[?25h"
     ]
    }
   ],
   "source": [
    "!pip3 -q install --upgrade transformers"
   ]
  },
  {
   "cell_type": "code",
   "execution_count": 3,
   "metadata": {
    "id": "qoiNWqdiuOjJ"
   },
   "outputs": [],
   "source": [
    "from datasets import load_dataset\n",
    "from transformers import AutoTokenizer, AutoModelForSequenceClassification, TrainingArguments, Trainer\n",
    "import evaluate\n",
    "import numpy as np\n",
    "from transformers import DataCollatorWithPadding"
   ]
  },
  {
   "cell_type": "code",
   "execution_count": 4,
   "metadata": {
    "id": "-3vKILpSuQbO"
   },
   "outputs": [],
   "source": [
    "import torch\n",
    "import torch.nn as nn\n",
    "import torch.optim as optim\n",
    "from torch.utils.data import DataLoader\n",
    "from sklearn.metrics import accuracy_score, precision_recall_fscore_support"
   ]
  },
  {
   "cell_type": "code",
   "execution_count": 5,
   "metadata": {
    "colab": {
     "base_uri": "https://localhost:8080/",
     "height": 601,
     "referenced_widgets": [
      "8378ad27de7448c5b1955c4267d43515",
      "5c3f1cf111f44496b54153186e8f7d3f",
      "fc5f6f7e570f4fd9b8418979cd6c62a1",
      "605738fd18424df8be7dba19bd27a232",
      "60a4b8326093406fb2b9f4e21839ace3",
      "d75f836d90d44197880c2634a0c4d077",
      "2f763f4ff0f14f74a563e6b0925a7b20",
      "a40341f9181840f586b686e467548623",
      "a15ef0ef677843b1a9c89c4422168d43",
      "438a901e8e2240e0af4930b7584a0fb4",
      "bee20f7be0ab41739a183f444859115d",
      "b0d083f919ab43c2b4977a39cf4fcb6f",
      "a9b63828be284b07bd8bd576dfbc3a7f",
      "70223cde7cd14950b0917133b7990a58",
      "c000f9a0426c4835841b96e4d6253055",
      "703a1e6d746e4c8987d004509f14e0e7",
      "6e64066138d647bfaeefa79d4d2479ed",
      "07d30bcf348b4af182f95d23bdc30bd3",
      "f28a48f840ee4c7c81a03321f4c2bffb",
      "8d7d4383b8cd469cb5e40dfa60d2cb38",
      "4c555e4c495b4ce1ab2271d9df6e28fc",
      "0a8c005b82644a3b829b6436263ae34d",
      "5d8dd32ddcfd43f194f02f4a57efaa00",
      "22eb6112a495408aa5f92a26511541a4",
      "51f8430d702442ffbfe4c8c8fd2d6edc",
      "94c8a634b3584169a3c2f7018e33c7a9",
      "e835e7892d454ed2be4cefb4a56648f4",
      "293b6032490d45d088a9e90becd35e07",
      "f64dc7dccb464ed9b69dd9b579a9f41e",
      "53274a036c3743afa9cb2e8ddf3444e7",
      "1d0146895702403595567d4046f79e4e",
      "c41dd9b6581f4c3895607c656506d029",
      "5afffd92070242389a05be89e2e03047",
      "23bcc14e31314ae1bd76026eb5bc22a3",
      "c84150ccd45f4aa2a0110ba816c09ed3",
      "4bac2ecad3ae47edaf0c56d4a20a6858",
      "bf2e82d9d54045b88d56ab099d635f84",
      "a3354e935e714456b65bdd3573175206",
      "eed47ef2a5774a4888d1a8183b909bd8",
      "6cd2aa56dbcf49088a04327c7f145b17",
      "077b4886e94b4b6b8f1981748c8c6167",
      "9f211236e61246f49eadf6c6f853a7c8",
      "cfce2d5dd5d6402cb7d49526dfb17eef",
      "6b987fe8ccdc4f9eba46c8051c8e1456",
      "94cbe8b9c58f4679af8076b4821cf176",
      "67ac82018b474592bfb00e0f54863690",
      "616aed0de10d4b4d966192041310d846",
      "969ed653bea44325b1c5eea557e82db6",
      "14b9a29c9b9741efac499dc23d48ad35",
      "73a0f2954bb44fe681af50bf22382c1e",
      "86068fc3266e46748e06c6e9a2e4d488",
      "6dd184071ce846a289f6b0b5d1279797",
      "4d38b09515b7409a90677ce4bef5f670",
      "bf40fea836904b248254469606476f13",
      "f1d926f717e34bab9b10ad3e581209e6",
      "c193e826762c4e58a7ba2e5f818998aa",
      "3b8fc26a810a42808e6bc29550506ad2",
      "3aabe650519f467bab251c9c8b6ae734",
      "2dd6e06311fd49f39be537ef0d487f00",
      "2fd6f26ab12c41c08a94c4c5c3e26fe5",
      "8c892781a4f34969985def0f9552cabb",
      "2ff79490451140ae9a42840d23bd8875",
      "53b9dc47263a4451a3394c791e2e6b67",
      "51e82f43c8ad45738efc941bbab21c71",
      "255c2839e6b6484b84960da512ab309a",
      "78a2d4f1e63048768c3e4cc30ba79340",
      "1058785520944b3f85a6da62511e53cd",
      "ca15c9a69cf24e229b6cdf8f48e97777",
      "3049d51304fc4736b1ff90fbfa65db39",
      "ea28df843e194fb3af31536d6e0905d1",
      "c2464b8461684321bebfec3cc18de7f8",
      "a5af33eba89b4ecab5515a1ab5692f64",
      "4c5a484754fa4b59962b179f2581a909",
      "684b388d0326432fafb2173129d873bc",
      "20ab7f79f3d94bdeaeda17ab61dbc421",
      "7433c30fea554e488a50b4f78c1656a8",
      "eb8bc34bb81b40b8836b9f82a110a401"
     ]
    },
    "id": "sxfqmYJbuSA_",
    "outputId": "84c823f8-89b9-4904-d7d7-65f8344ab675"
   },
   "outputs": [
    {
     "name": "stderr",
     "output_type": "stream",
     "text": [
      "/usr/local/lib/python3.11/dist-packages/huggingface_hub/utils/_auth.py:94: UserWarning: \n",
      "The secret `HF_TOKEN` does not exist in your Colab secrets.\n",
      "To authenticate with the Hugging Face Hub, create a token in your settings tab (https://huggingface.co/settings/tokens), set it as secret in your Google Colab and restart your session.\n",
      "You will be able to reuse this secret in all of your notebooks.\n",
      "Please note that authentication is recommended but still optional to access public models or datasets.\n",
      "  warnings.warn(\n"
     ]
    },
    {
     "data": {
      "application/vnd.jupyter.widget-view+json": {
       "model_id": "8378ad27de7448c5b1955c4267d43515",
       "version_major": 2,
       "version_minor": 0
      },
      "text/plain": [
       "README.md:   0%|          | 0.00/1.45k [00:00<?, ?B/s]"
      ]
     },
     "metadata": {},
     "output_type": "display_data"
    },
    {
     "data": {
      "application/vnd.jupyter.widget-view+json": {
       "model_id": "b0d083f919ab43c2b4977a39cf4fcb6f",
       "version_major": 2,
       "version_minor": 0
      },
      "text/plain": [
       "train-00000-of-00001.parquet:   0%|          | 0.00/98.0k [00:00<?, ?B/s]"
      ]
     },
     "metadata": {},
     "output_type": "display_data"
    },
    {
     "data": {
      "application/vnd.jupyter.widget-view+json": {
       "model_id": "5d8dd32ddcfd43f194f02f4a57efaa00",
       "version_major": 2,
       "version_minor": 0
      },
      "text/plain": [
       "validation-00000-of-00001.parquet:   0%|          | 0.00/21.4k [00:00<?, ?B/s]"
      ]
     },
     "metadata": {},
     "output_type": "display_data"
    },
    {
     "data": {
      "application/vnd.jupyter.widget-view+json": {
       "model_id": "23bcc14e31314ae1bd76026eb5bc22a3",
       "version_major": 2,
       "version_minor": 0
      },
      "text/plain": [
       "test-00000-of-00001.parquet:   0%|          | 0.00/24.5k [00:00<?, ?B/s]"
      ]
     },
     "metadata": {},
     "output_type": "display_data"
    },
    {
     "data": {
      "application/vnd.jupyter.widget-view+json": {
       "model_id": "94cbe8b9c58f4679af8076b4821cf176",
       "version_major": 2,
       "version_minor": 0
      },
      "text/plain": [
       "Generating train split:   0%|          | 0/2100 [00:00<?, ? examples/s]"
      ]
     },
     "metadata": {},
     "output_type": "display_data"
    },
    {
     "data": {
      "application/vnd.jupyter.widget-view+json": {
       "model_id": "c193e826762c4e58a7ba2e5f818998aa",
       "version_major": 2,
       "version_minor": 0
      },
      "text/plain": [
       "Generating validation split:   0%|          | 0/450 [00:00<?, ? examples/s]"
      ]
     },
     "metadata": {},
     "output_type": "display_data"
    },
    {
     "data": {
      "application/vnd.jupyter.widget-view+json": {
       "model_id": "1058785520944b3f85a6da62511e53cd",
       "version_major": 2,
       "version_minor": 0
      },
      "text/plain": [
       "Generating test split:   0%|          | 0/450 [00:00<?, ? examples/s]"
      ]
     },
     "metadata": {},
     "output_type": "display_data"
    },
    {
     "data": {
      "text/plain": [
       "DatasetDict({\n",
       "    train: Dataset({\n",
       "        features: ['text', 'labels'],\n",
       "        num_rows: 2100\n",
       "    })\n",
       "    validation: Dataset({\n",
       "        features: ['text', 'labels'],\n",
       "        num_rows: 450\n",
       "    })\n",
       "    test: Dataset({\n",
       "        features: ['text', 'labels'],\n",
       "        num_rows: 450\n",
       "    })\n",
       "})"
      ]
     },
     "execution_count": 5,
     "metadata": {},
     "output_type": "execute_result"
    }
   ],
   "source": [
    "dataset_dict = load_dataset(\"shawhin/phishing-site-classification\")\n",
    "dataset_dict"
   ]
  },
  {
   "cell_type": "code",
   "execution_count": 6,
   "metadata": {
    "colab": {
     "base_uri": "https://localhost:8080/",
     "height": 231,
     "referenced_widgets": [
      "e8c88084b38a4abe9026be2f28994b83",
      "c11b3577f6be486d84b578d8413d1385",
      "751b87f59ef24c07b8da229ca0625755",
      "8fde9e4e35f74eccb0b817c868aea519",
      "4cb60db264cd45d99d1ce5359fcc3b48",
      "1273d61a395844028546ef2ddcb5ef23",
      "8b6d2b356df04e1e8fb25ba8dc702af2",
      "b226a005275d40f0b3964ea0734527f9",
      "9a6aa81cb43f465a81b79c6ae40075d8",
      "b152df01e4e44eb5adf32c2cfc86b688",
      "e104d7518b1e4762b47b7a7dc409e428",
      "f81a83900ad143b4bef66e00516adb55",
      "93e9629566f2427e9101254e63d25a9a",
      "8f7a9c843c9546b3ab134117cd200172",
      "db366a0b354c40b6bdf9ebe2f8790f27",
      "a1d899674e46439ca7d2aa3ebe90a334",
      "bc8c18fab237451e9f9d69117a8bfc88",
      "1057bf587ab444a988d8c45ae7018db5",
      "0e91f58ea8a948f8947542cf16cf50fe",
      "6cf70b690df2404882324a06dc49d409",
      "8f5eec43f2ff4fb3aa79aef7584602be",
      "953d0bfb6cc14ffba43307000384209f",
      "cf76f130331f44598bbd1afa095961b7",
      "1221ccd12d1a4f05a0a24d702aee098d",
      "028c0120d5ce48a69bb6211c3cff6175",
      "07e5d44421ed492eb7ea4bb68228d0d0",
      "b1223a5965774611971182896fe4c9bb",
      "f0c37de863194cefb079ec098dfa698a",
      "56b95d6213a1491fa62c6ca08fe532c3",
      "2c56039e45a649328b117babc0f79d69",
      "35d1de6461d8462395d29e2183ca422b",
      "73f93b7336384513b3823688d3cae89c",
      "bacaea83dd4148cc8b5c2df1991360c2",
      "8b5d2035e8394ee897e6e56264882475",
      "cc203726903c498e980a265cec2af57e",
      "bef0bb673036403abb5c76cebd72181b",
      "4d513f1fae6e42d88fc4c2b957653a67",
      "59ddb0b6152642d690b4bdb43166ba0d",
      "c397bd9bef3e4017a4b4a10b04e21d1d",
      "2de2d3da95ac4554b56dd78c0965d9aa",
      "f8269439761d4f4fa2992c68061ba617",
      "b89ec316722b4143920a043e071218cc",
      "2d4683bf950b4be8b4f148356940fca1",
      "0401ac04e4b845e08e0cc36b94f79054",
      "b1710af0064e47babb33be7eb7d2f272",
      "9729f3c596924ab1afd5eb4c44014c5b",
      "f0b84cdf4aa44783a39f100dfc467e5f",
      "3398b5eb58b84c4a8710ca6f9869a498",
      "56989e5737a649d7ae189da5ba30a5ff",
      "476a73f33f404e0b8a4310a5f020b9ee",
      "4e724372db8443c391c1a977ae594821",
      "e7707f91c6894da98a2ddf1a2c1567f1",
      "b98dcc9246e94e1cb7ca3350ddf0ea25",
      "9afa3cd8f64c477e84c8291d8e5a256e",
      "e3960bcd91794119881b1cd56d0d6f52"
     ]
    },
    "id": "Y6FCVT_MuTeM",
    "outputId": "a972a76c-7f67-45f1-d9a5-6ea107d8fc85"
   },
   "outputs": [
    {
     "data": {
      "application/vnd.jupyter.widget-view+json": {
       "model_id": "e8c88084b38a4abe9026be2f28994b83",
       "version_major": 2,
       "version_minor": 0
      },
      "text/plain": [
       "tokenizer_config.json:   0%|          | 0.00/48.0 [00:00<?, ?B/s]"
      ]
     },
     "metadata": {},
     "output_type": "display_data"
    },
    {
     "data": {
      "application/vnd.jupyter.widget-view+json": {
       "model_id": "f81a83900ad143b4bef66e00516adb55",
       "version_major": 2,
       "version_minor": 0
      },
      "text/plain": [
       "config.json:   0%|          | 0.00/570 [00:00<?, ?B/s]"
      ]
     },
     "metadata": {},
     "output_type": "display_data"
    },
    {
     "data": {
      "application/vnd.jupyter.widget-view+json": {
       "model_id": "cf76f130331f44598bbd1afa095961b7",
       "version_major": 2,
       "version_minor": 0
      },
      "text/plain": [
       "vocab.txt:   0%|          | 0.00/232k [00:00<?, ?B/s]"
      ]
     },
     "metadata": {},
     "output_type": "display_data"
    },
    {
     "data": {
      "application/vnd.jupyter.widget-view+json": {
       "model_id": "8b5d2035e8394ee897e6e56264882475",
       "version_major": 2,
       "version_minor": 0
      },
      "text/plain": [
       "tokenizer.json:   0%|          | 0.00/466k [00:00<?, ?B/s]"
      ]
     },
     "metadata": {},
     "output_type": "display_data"
    },
    {
     "data": {
      "application/vnd.jupyter.widget-view+json": {
       "model_id": "b1710af0064e47babb33be7eb7d2f272",
       "version_major": 2,
       "version_minor": 0
      },
      "text/plain": [
       "model.safetensors:   0%|          | 0.00/440M [00:00<?, ?B/s]"
      ]
     },
     "metadata": {},
     "output_type": "display_data"
    },
    {
     "name": "stderr",
     "output_type": "stream",
     "text": [
      "Some weights of BertForSequenceClassification were not initialized from the model checkpoint at google-bert/bert-base-uncased and are newly initialized: ['classifier.bias', 'classifier.weight']\n",
      "You should probably TRAIN this model on a down-stream task to be able to use it for predictions and inference.\n"
     ]
    }
   ],
   "source": [
    "model_path = \"google-bert/bert-base-uncased\"\n",
    "tokenizer = AutoTokenizer.from_pretrained(model_path)\n",
    "id2label = {0: \"Safe\", 1: \"Not Safe\"}\n",
    "label2id = {\"Safe\": 0, \"Not Safe\": 1}\n",
    "model = AutoModelForSequenceClassification.from_pretrained(model_path,\n",
    "                                                           num_labels=2,\n",
    "                                                           id2label=id2label,\n",
    "                                                           label2id=label2id,)"
   ]
  },
  {
   "cell_type": "code",
   "execution_count": 7,
   "metadata": {
    "id": "tbBDZ8UluVgi"
   },
   "outputs": [],
   "source": [
    "for name, param in model.base_model.named_parameters():\n",
    "  if \"pooler\" in name:\n",
    "        param.requires_grad = True\n",
    "  else:\n",
    "        param.requires_grad = False"
   ]
  },
  {
   "cell_type": "code",
   "execution_count": 8,
   "metadata": {
    "colab": {
     "base_uri": "https://localhost:8080/",
     "height": 113,
     "referenced_widgets": [
      "10d10983cd934fd6821dad50d3238159",
      "cfe88427a5b14e3384475e7f68b1f99f",
      "e93ebd0d529644c2b8eeaf82a2b57d81",
      "219ae3520f144a5b9a22c196c3a0c553",
      "4a32ae24f8ca404bb31620a2bac008d7",
      "381d6de7a88d4430a2a82a159d42e542",
      "c3ae8c0fee584c6c852c407acbdb2f46",
      "ff7b855d4f55421880b8accaff6c9c35",
      "caabd17bfb664743ab4e94589315aa2d",
      "754b05a77dbf4eb4a149ce60f117c627",
      "4c0a5bba59d648e0804de142b43c1567",
      "903eebbcddd34c34a1667d3e666e376f",
      "01770643116f44c7ad452ea076fbcb55",
      "5c324d166eae40798e98042321d8c619",
      "edb4bf8db96b40e19f9dc1bc66c3e9b9",
      "dcc909f5aea74526bc970a9a32f27df6",
      "9006656da9364e41a3d8200e58aa7db5",
      "ad9b6795a3bd4ed4a037ef9f73559425",
      "8ab0b74b5b724828ab48ad05adbbf3be",
      "a01df323890b43afbaefb4f4a98c92bb",
      "69dc273e4e92476bbf6ef8a2a83f859a",
      "703967c42ee146908e3988bf92c125ac",
      "cdacdf61d6f64a44b767d05913d32878",
      "d23e0b33d95d4138a073909086182fe6",
      "c4359e8aab6b41b1991da22f3be49db7",
      "9421bb391b6048909ad009d51e61eb44",
      "3fd5b77bef5248cd85089155c90b73c4",
      "f729dd427ad84cbc83f5043c5b97d83b",
      "7bcbbe773b3c40e5bff5fefb0b27020e",
      "2b69c25beff9459684a7d13f2fc9a5b5",
      "e634c9a052d84b1aae4754063156bf40",
      "fb76ec557afa4ca485118e36918c7d4b",
      "441886952c4046e9a4224b6908f13cb3"
     ]
    },
    "id": "rl50q7JVuXm_",
    "outputId": "3de7d65a-1c08-4a87-a436-65f29f2ada55"
   },
   "outputs": [
    {
     "data": {
      "application/vnd.jupyter.widget-view+json": {
       "model_id": "10d10983cd934fd6821dad50d3238159",
       "version_major": 2,
       "version_minor": 0
      },
      "text/plain": [
       "Map:   0%|          | 0/2100 [00:00<?, ? examples/s]"
      ]
     },
     "metadata": {},
     "output_type": "display_data"
    },
    {
     "data": {
      "application/vnd.jupyter.widget-view+json": {
       "model_id": "903eebbcddd34c34a1667d3e666e376f",
       "version_major": 2,
       "version_minor": 0
      },
      "text/plain": [
       "Map:   0%|          | 0/450 [00:00<?, ? examples/s]"
      ]
     },
     "metadata": {},
     "output_type": "display_data"
    },
    {
     "data": {
      "application/vnd.jupyter.widget-view+json": {
       "model_id": "cdacdf61d6f64a44b767d05913d32878",
       "version_major": 2,
       "version_minor": 0
      },
      "text/plain": [
       "Map:   0%|          | 0/450 [00:00<?, ? examples/s]"
      ]
     },
     "metadata": {},
     "output_type": "display_data"
    }
   ],
   "source": [
    "def preprocess_function(examples):\n",
    "    return tokenizer(examples[\"text\"], truncation=True)\n",
    "tokenized_dataset = dataset_dict.map(preprocess_function, batched=True)"
   ]
  },
  {
   "cell_type": "code",
   "execution_count": 9,
   "metadata": {
    "id": "o2uzd_eUuZU-"
   },
   "outputs": [],
   "source": [
    "data_collator = DataCollatorWithPadding(tokenizer=tokenizer)"
   ]
  },
  {
   "cell_type": "code",
   "execution_count": 10,
   "metadata": {
    "colab": {
     "base_uri": "https://localhost:8080/",
     "height": 81,
     "referenced_widgets": [
      "1e486178b61c419cb4888b356193cf0d",
      "6c12119733cd47c08f4628cfb5d5217a",
      "aae1521308134082b0d714a3ed6145c1",
      "38de6b17408340349cde870c6e3f541f",
      "8929487194be48d9bd40ae04ce6476c7",
      "a3f38faa9aee4fbd9653a0f5b23a23f7",
      "be7ea48411d34998b89b8937e7c9a1cd",
      "104f9e8306834a538f748b548fb6cf97",
      "b4890ee49a944b828c64c0a22a27c655",
      "d9f7ce36f8294b23ba92a6a6b7e9c235",
      "0cf94e16a1024545ac7f95f64d90f7a6",
      "0df5c7b4eb174b8bb65a5a6fdbda50f8",
      "2b186559d6bd4d1ba10dc6ffa6390b30",
      "8495c1d20a6d4e9a80ca521567ab6423",
      "53da4c75298946e58b60918fd19019a9",
      "6ef910f4526043c9bb25804f9b259e69",
      "30050f748b2c46a9b5e2651e6836360d",
      "aada4d9f30b543fdb0bf600a41ebe5e2",
      "7704091121764093a6b73a1950989bf2",
      "b987260409fa409680fc8ff4c445cc77",
      "98d4c5645afc48d18ff67081b05afbf4",
      "edce2b7f0ca54c57aad495783c3049cb"
     ]
    },
    "id": "UOxrrpJxubUt",
    "outputId": "99a2b811-337a-4148-9db2-ada72e3700fb"
   },
   "outputs": [
    {
     "data": {
      "application/vnd.jupyter.widget-view+json": {
       "model_id": "1e486178b61c419cb4888b356193cf0d",
       "version_major": 2,
       "version_minor": 0
      },
      "text/plain": [
       "Downloading builder script:   0%|          | 0.00/4.20k [00:00<?, ?B/s]"
      ]
     },
     "metadata": {},
     "output_type": "display_data"
    },
    {
     "data": {
      "application/vnd.jupyter.widget-view+json": {
       "model_id": "0df5c7b4eb174b8bb65a5a6fdbda50f8",
       "version_major": 2,
       "version_minor": 0
      },
      "text/plain": [
       "Downloading builder script:   0%|          | 0.00/9.54k [00:00<?, ?B/s]"
      ]
     },
     "metadata": {},
     "output_type": "display_data"
    }
   ],
   "source": [
    "accuracy = evaluate.load(\"accuracy\")\n",
    "auc_score = evaluate.load(\"roc_auc\")\n",
    "\n",
    "def compute_metrics(eval_pred):\n",
    "    predictions, labels = eval_pred\n",
    "    probabilities = np.exp(predictions) / np.exp(predictions).sum(-1, keepdims=True)\n",
    "    positive_class_probs = probabilities[:, 1]\n",
    "    auc = np.round(auc_score.compute(prediction_scores=positive_class_probs, references=labels)['roc_auc'],3)\n",
    "\n",
    "    predicted_classes = np.argmax(predictions, axis=1)\n",
    "    acc = np.round(accuracy.compute(predictions=predicted_classes, references=labels)['accuracy'],3)\n",
    "\n",
    "    return {\"Accuracy\": acc, \"AUC\": auc}"
   ]
  },
  {
   "cell_type": "code",
   "execution_count": 11,
   "metadata": {
    "id": "QtbE2aswuc5j"
   },
   "outputs": [],
   "source": [
    "lr = 2e-4\n",
    "batch_size = 32\n",
    "num_epochs = 10\n",
    "\n",
    "training_args = TrainingArguments(\n",
    "    output_dir=\"bert-phishing-classifier_teacher\",\n",
    "    learning_rate=lr,\n",
    "    per_device_train_batch_size=batch_size,\n",
    "    per_device_eval_batch_size=batch_size,\n",
    "    num_train_epochs=num_epochs,\n",
    "    logging_strategy=\"epoch\",\n",
    "    eval_strategy=\"epoch\",\n",
    "    save_strategy=\"epoch\",\n",
    "    load_best_model_at_end=True,\n",
    ")"
   ]
  },
  {
   "cell_type": "code",
   "execution_count": 14,
   "metadata": {
    "colab": {
     "base_uri": "https://localhost:8080/"
    },
    "id": "w9PGlZNyufBN",
    "outputId": "d88589be-0d21-4cb0-b0d8-a488ffdce719"
   },
   "outputs": [
    {
     "name": "stderr",
     "output_type": "stream",
     "text": [
      "<ipython-input-14-ea83d2950a86>:1: FutureWarning: `tokenizer` is deprecated and will be removed in version 5.0.0 for `Trainer.__init__`. Use `processing_class` instead.\n",
      "  trainer = Trainer(\n"
     ]
    }
   ],
   "source": [
    "trainer = Trainer(\n",
    "    model=model,\n",
    "    args=training_args,\n",
    "    train_dataset=tokenized_dataset[\"train\"],\n",
    "    eval_dataset=tokenized_dataset[\"validation\"],\n",
    "    tokenizer=tokenizer,\n",
    "    data_collator=data_collator,\n",
    "    compute_metrics=compute_metrics,\n",
    ")"
   ]
  },
  {
   "cell_type": "code",
   "execution_count": 15,
   "metadata": {
    "colab": {
     "base_uri": "https://localhost:8080/",
     "height": 691
    },
    "id": "nTLeQd83ug9e",
    "outputId": "0b81b714-a430-44a9-adaa-3c2496e60cb2"
   },
   "outputs": [
    {
     "data": {
      "application/javascript": [
       "\n",
       "        window._wandbApiKey = new Promise((resolve, reject) => {\n",
       "            function loadScript(url) {\n",
       "            return new Promise(function(resolve, reject) {\n",
       "                let newScript = document.createElement(\"script\");\n",
       "                newScript.onerror = reject;\n",
       "                newScript.onload = resolve;\n",
       "                document.body.appendChild(newScript);\n",
       "                newScript.src = url;\n",
       "            });\n",
       "            }\n",
       "            loadScript(\"https://cdn.jsdelivr.net/npm/postmate/build/postmate.min.js\").then(() => {\n",
       "            const iframe = document.createElement('iframe')\n",
       "            iframe.style.cssText = \"width:0;height:0;border:none\"\n",
       "            document.body.appendChild(iframe)\n",
       "            const handshake = new Postmate({\n",
       "                container: iframe,\n",
       "                url: 'https://wandb.ai/authorize'\n",
       "            });\n",
       "            const timeout = setTimeout(() => reject(\"Couldn't auto authenticate\"), 5000)\n",
       "            handshake.then(function(child) {\n",
       "                child.on('authorize', data => {\n",
       "                    clearTimeout(timeout)\n",
       "                    resolve(data)\n",
       "                });\n",
       "            });\n",
       "            })\n",
       "        });\n",
       "    "
      ],
      "text/plain": [
       "<IPython.core.display.Javascript object>"
      ]
     },
     "metadata": {},
     "output_type": "display_data"
    },
    {
     "name": "stderr",
     "output_type": "stream",
     "text": [
      "\u001b[34m\u001b[1mwandb\u001b[0m: Logging into wandb.ai. (Learn how to deploy a W&B server locally: https://wandb.me/wandb-server)\n",
      "\u001b[34m\u001b[1mwandb\u001b[0m: You can find your API key in your browser here: https://wandb.ai/authorize\n",
      "wandb: Paste an API key from your profile and hit enter:"
     ]
    },
    {
     "name": "stdout",
     "output_type": "stream",
     "text": [
      " ··········\n"
     ]
    },
    {
     "name": "stderr",
     "output_type": "stream",
     "text": [
      "wandb: Paste an API key from your profile and hit enter:"
     ]
    },
    {
     "name": "stdout",
     "output_type": "stream",
     "text": [
      " ··········\n"
     ]
    },
    {
     "name": "stderr",
     "output_type": "stream",
     "text": [
      "wandb: Paste an API key from your profile and hit enter:"
     ]
    },
    {
     "name": "stdout",
     "output_type": "stream",
     "text": [
      " ··········\n"
     ]
    },
    {
     "name": "stderr",
     "output_type": "stream",
     "text": [
      "\u001b[34m\u001b[1mwandb\u001b[0m: \u001b[33mWARNING\u001b[0m If you're specifying your api key in code, ensure this code is not shared publicly.\n",
      "\u001b[34m\u001b[1mwandb\u001b[0m: \u001b[33mWARNING\u001b[0m Consider setting the WANDB_API_KEY environment variable, or running `wandb login` from the command line.\n",
      "\u001b[34m\u001b[1mwandb\u001b[0m: No netrc file found, creating one.\n",
      "\u001b[34m\u001b[1mwandb\u001b[0m: Appending key for api.wandb.ai to your netrc file: /root/.netrc\n",
      "\u001b[34m\u001b[1mwandb\u001b[0m: Currently logged in as: \u001b[33maditya-singh2207191\u001b[0m (\u001b[33maditya-singh2207191-rgipt-jais\u001b[0m) to \u001b[32mhttps://api.wandb.ai\u001b[0m. Use \u001b[1m`wandb login --relogin`\u001b[0m to force relogin\n"
     ]
    },
    {
     "data": {
      "text/html": [
       "Tracking run with wandb version 0.19.8"
      ],
      "text/plain": [
       "<IPython.core.display.HTML object>"
      ]
     },
     "metadata": {},
     "output_type": "display_data"
    },
    {
     "data": {
      "text/html": [
       "Run data is saved locally in <code>/content/wandb/run-20250318_101151-xehhvfoc</code>"
      ],
      "text/plain": [
       "<IPython.core.display.HTML object>"
      ]
     },
     "metadata": {},
     "output_type": "display_data"
    },
    {
     "data": {
      "text/html": [
       "Syncing run <strong><a href='https://wandb.ai/aditya-singh2207191-rgipt-jais/huggingface/runs/xehhvfoc' target=\"_blank\">bert-phishing-classifier_teacher</a></strong> to <a href='https://wandb.ai/aditya-singh2207191-rgipt-jais/huggingface' target=\"_blank\">Weights & Biases</a> (<a href='https://wandb.me/developer-guide' target=\"_blank\">docs</a>)<br>"
      ],
      "text/plain": [
       "<IPython.core.display.HTML object>"
      ]
     },
     "metadata": {},
     "output_type": "display_data"
    },
    {
     "data": {
      "text/html": [
       " View project at <a href='https://wandb.ai/aditya-singh2207191-rgipt-jais/huggingface' target=\"_blank\">https://wandb.ai/aditya-singh2207191-rgipt-jais/huggingface</a>"
      ],
      "text/plain": [
       "<IPython.core.display.HTML object>"
      ]
     },
     "metadata": {},
     "output_type": "display_data"
    },
    {
     "data": {
      "text/html": [
       " View run at <a href='https://wandb.ai/aditya-singh2207191-rgipt-jais/huggingface/runs/xehhvfoc' target=\"_blank\">https://wandb.ai/aditya-singh2207191-rgipt-jais/huggingface/runs/xehhvfoc</a>"
      ],
      "text/plain": [
       "<IPython.core.display.HTML object>"
      ]
     },
     "metadata": {},
     "output_type": "display_data"
    },
    {
     "data": {
      "text/html": [
       "\n",
       "    <div>\n",
       "      \n",
       "      <progress value='660' max='660' style='width:300px; height:20px; vertical-align: middle;'></progress>\n",
       "      [660/660 03:09, Epoch 10/10]\n",
       "    </div>\n",
       "    <table border=\"1\" class=\"dataframe\">\n",
       "  <thead>\n",
       " <tr style=\"text-align: left;\">\n",
       "      <th>Epoch</th>\n",
       "      <th>Training Loss</th>\n",
       "      <th>Validation Loss</th>\n",
       "      <th>Accuracy</th>\n",
       "      <th>Auc</th>\n",
       "    </tr>\n",
       "  </thead>\n",
       "  <tbody>\n",
       "    <tr>\n",
       "      <td>1</td>\n",
       "      <td>0.546100</td>\n",
       "      <td>0.435807</td>\n",
       "      <td>0.813000</td>\n",
       "      <td>0.907000</td>\n",
       "    </tr>\n",
       "    <tr>\n",
       "      <td>2</td>\n",
       "      <td>0.434100</td>\n",
       "      <td>0.378763</td>\n",
       "      <td>0.849000</td>\n",
       "      <td>0.929000</td>\n",
       "    </tr>\n",
       "    <tr>\n",
       "      <td>3</td>\n",
       "      <td>0.386100</td>\n",
       "      <td>0.348509</td>\n",
       "      <td>0.871000</td>\n",
       "      <td>0.937000</td>\n",
       "    </tr>\n",
       "    <tr>\n",
       "      <td>4</td>\n",
       "      <td>0.373400</td>\n",
       "      <td>0.352560</td>\n",
       "      <td>0.860000</td>\n",
       "      <td>0.937000</td>\n",
       "    </tr>\n",
       "    <tr>\n",
       "      <td>5</td>\n",
       "      <td>0.364000</td>\n",
       "      <td>0.326581</td>\n",
       "      <td>0.880000</td>\n",
       "      <td>0.940000</td>\n",
       "    </tr>\n",
       "    <tr>\n",
       "      <td>6</td>\n",
       "      <td>0.332300</td>\n",
       "      <td>0.330769</td>\n",
       "      <td>0.876000</td>\n",
       "      <td>0.942000</td>\n",
       "    </tr>\n",
       "    <tr>\n",
       "      <td>7</td>\n",
       "      <td>0.335800</td>\n",
       "      <td>0.344742</td>\n",
       "      <td>0.862000</td>\n",
       "      <td>0.942000</td>\n",
       "    </tr>\n",
       "    <tr>\n",
       "      <td>8</td>\n",
       "      <td>0.329200</td>\n",
       "      <td>0.314692</td>\n",
       "      <td>0.882000</td>\n",
       "      <td>0.942000</td>\n",
       "    </tr>\n",
       "    <tr>\n",
       "      <td>9</td>\n",
       "      <td>0.336100</td>\n",
       "      <td>0.314846</td>\n",
       "      <td>0.878000</td>\n",
       "      <td>0.942000</td>\n",
       "    </tr>\n",
       "    <tr>\n",
       "      <td>10</td>\n",
       "      <td>0.321200</td>\n",
       "      <td>0.316329</td>\n",
       "      <td>0.880000</td>\n",
       "      <td>0.942000</td>\n",
       "    </tr>\n",
       "  </tbody>\n",
       "</table><p>"
      ],
      "text/plain": [
       "<IPython.core.display.HTML object>"
      ]
     },
     "metadata": {},
     "output_type": "display_data"
    },
    {
     "data": {
      "text/plain": [
       "TrainOutput(global_step=660, training_loss=0.37581390901045364, metrics={'train_runtime': 228.7586, 'train_samples_per_second': 91.8, 'train_steps_per_second': 2.885, 'total_flos': 1228107850884960.0, 'train_loss': 0.37581390901045364, 'epoch': 10.0})"
      ]
     },
     "execution_count": 15,
     "metadata": {},
     "output_type": "execute_result"
    }
   ],
   "source": [
    "trainer.train()"
   ]
  },
  {
   "cell_type": "code",
   "execution_count": 16,
   "metadata": {
    "colab": {
     "base_uri": "https://localhost:8080/",
     "height": 34
    },
    "id": "7xKVP4Lsui0l",
    "outputId": "9cea5ea8-1734-4839-b9d8-26df6e586199"
   },
   "outputs": [
    {
     "data": {
      "text/html": [],
      "text/plain": [
       "<IPython.core.display.HTML object>"
      ]
     },
     "metadata": {},
     "output_type": "display_data"
    },
    {
     "name": "stdout",
     "output_type": "stream",
     "text": [
      "{'Accuracy': np.float64(0.862), 'AUC': np.float64(0.946)}\n"
     ]
    }
   ],
   "source": [
    "predictions = trainer.predict(tokenized_dataset[\"test\"])\n",
    "logits = predictions.predictions\n",
    "labels = predictions.label_ids\n",
    "\n",
    "metrics = compute_metrics((logits, labels))\n",
    "print(metrics)"
   ]
  },
  {
   "cell_type": "code",
   "execution_count": 17,
   "metadata": {
    "colab": {
     "base_uri": "https://localhost:8080/",
     "height": 17,
     "referenced_widgets": [
      "9040f900ba704c9395b028239c590c47",
      "0d812bf783d14925abbf795dfb7a1603",
      "bc172838341d4d35af54508dbdd9f6f3",
      "e9329b6588934e2d91d2eebe8875734b",
      "b2e3534fca774b03b1fea7ca94bb823b",
      "698d7b09c77d421b825f4977b93de788",
      "c350e02d8e4e4b71805ff938badfa290",
      "aaf769fb711a42db94c08ae33917b397",
      "3b02e217f8e848048c69c5366e63a557",
      "9152187968364b1aa1b7631f22256590",
      "623ef845c4824249ae409604390f62cf",
      "507f1028bc4d42408ab858825ff7c8ad",
      "81387e352254403c8e680d2461f8a90e",
      "05039de9c18f4bc3a46cff143515e276",
      "8cf872a24e41426f866a0bfb2aec2da2",
      "9bbe64c2e730442684bf2910e9cf97ef",
      "cdfae6580265425db4b925be4e91d9c4",
      "ddf6df5973b84b94b289feed792e9d38",
      "fb927597939a43b58b0e6e779320e0ce",
      "6392dbbfffc546a8b01948e56cdd2e56"
     ]
    },
    "id": "iIAjPDyHvSaZ",
    "outputId": "5fda8c43-49fc-4f9c-bcba-45dbdd7feaf4"
   },
   "outputs": [
    {
     "data": {
      "application/vnd.jupyter.widget-view+json": {
       "model_id": "9040f900ba704c9395b028239c590c47",
       "version_major": 2,
       "version_minor": 0
      },
      "text/plain": [
       "VBox(children=(HTML(value='<center> <img\\nsrc=https://huggingface.co/front/assets/huggingface_logo-noborder.sv…"
      ]
     },
     "metadata": {},
     "output_type": "display_data"
    }
   ],
   "source": [
    "from huggingface_hub import notebook_login\n",
    "notebook_login()"
   ]
  },
  {
   "cell_type": "code",
   "execution_count": 19,
   "metadata": {
    "colab": {
     "base_uri": "https://localhost:8080/",
     "height": 311,
     "referenced_widgets": [
      "51d8eb229de744169d81a68e8584e2be",
      "00e73de6d1ae4b67aafdbaa77dccb3bf",
      "f7296623593f4f46b36a34e98267b07a",
      "36388e2d089a48b6a6b219107948aa0d",
      "ac92b88ae7154e499c47ebc473336baf",
      "38d043e512c94894bcdfc6122600b157",
      "3b529ac4d5e2447bbf0e7c8bf861fe47",
      "1ef4f29f3cf84595a7b34011b6e325a2",
      "ca194ef37a4e41d780f52df1dddad99f",
      "a0aa1777ea8d43e1839fe28a3a0c3369",
      "08dc052af7624657becdc7efae195684",
      "8b9d44033d9f4bbaab9cfe14fc78b987",
      "2457c8ba3cf849fdb89741f80680da8e",
      "326c6b20b8b84475ae2b9a5df871e148",
      "26835259a9bf486798992ff850da49af",
      "1bf641986cfa41ff887bb55d0824f69c",
      "4afd0ab68bb4437ab499351e863f8acb",
      "cf13d05f4b004a7590ac5eb391eea0e1",
      "afa26162078d4545a30d8a87da1e8408",
      "755a9773456c4fbbb3f71a1738767679",
      "c6507a315d454cadb004664e3a69dc52",
      "3ad90c98ab744a8884db71e6c2a36817",
      "4db70a63111e4e0b8aa0c6edb859e41f",
      "83c541b7071d467e93dbbdb8dfc239a9",
      "096ead573e644f8481e6b4e545d4fce2",
      "12326d0b8d2b42d18cf47a2a55d4ad95",
      "a390a5aa77b24c129b8af53467068134",
      "66b89cc4971c45d8ba36102aae450bf6",
      "92575deb7e804272b14a0228cb5e5807",
      "39c202f7e54843559228801357e80562",
      "7e9e42a8891646ac8894960f7b6e5fa7",
      "df812f9e91e94c01a4ccb946775827b2",
      "649a8d038110477dbd9554d288f77b74",
      "8830fc2995cd4b2cb8f6ddf12f8a6022",
      "ac85847c93b140b1b376559a0b495cfe",
      "8cdeb4cd4dc440b88ea73fe6dd35f3fb",
      "6edc62ec1e3546b5b1970e66659ef28b",
      "fda5d760b60f4f77ba4cdef7f151b480",
      "866eafe8308041c1ace216bd66da1fad",
      "abd32957d1684959a5226816b3456a02",
      "007ffad6cd6b4dc6811598c8142110a7",
      "ba83fe88448448f2bf8ed80df67dce39",
      "ab2205db1f7e42e787da487bbd9a201e",
      "b74d1ea4e13a419db3fc98e39fa9d844",
      "023b265318254a33a622e4004c064803",
      "e17dfff1b1114c789e3d49ce3304108b",
      "7200d1559710434ba963564afc28d9b2",
      "ed0863791a9d47efba6f37edf307150b",
      "cf5994cbe1794ed0a6e068263ed4df07",
      "0187cb5b74154b82a3ab6a0d40cabc65",
      "9741538666a24975bcba8166bbc2d7c9",
      "b2a2ec33899e400b97acf6fceb1854b4",
      "e925b63ef544448dbf25ff776517b4d3",
      "c8d9ac2ca647490581fc49039544b645",
      "941a108a82474258bb3561d1c3a235d9",
      "05dbad474770415784c50460026b5221",
      "367b05af023f4b338827bcc5c6ef74b4",
      "f53b95ae4e0c491a8a11fe096c6cca70",
      "5e8bd0cee13840cd8204cb61ecdf90f9",
      "75d63b0a7de74e7e9c2de41275cd4152",
      "fbc9d61aad7a4ec3961bff9bd03099dd",
      "443590045ef6493b81f074a829057c8e",
      "f7a5b28f285c4282a5fb5d6005f86a81",
      "6a9666d9456f43da8e7a016e655f5029",
      "eab8a47e344246939dc5f79e5703b59b",
      "f32c4894569a401fadbaf9b23df2bf7a"
     ]
    },
    "id": "xOcjNroDvV0e",
    "outputId": "93cd5d31-ab2f-4e56-9770-cfcc8aaae37a"
   },
   "outputs": [
    {
     "data": {
      "application/vnd.jupyter.widget-view+json": {
       "model_id": "51d8eb229de744169d81a68e8584e2be",
       "version_major": 2,
       "version_minor": 0
      },
      "text/plain": [
       "model.safetensors:   0%|          | 0.00/438M [00:00<?, ?B/s]"
      ]
     },
     "metadata": {},
     "output_type": "display_data"
    },
    {
     "data": {
      "application/vnd.jupyter.widget-view+json": {
       "model_id": "8b9d44033d9f4bbaab9cfe14fc78b987",
       "version_major": 2,
       "version_minor": 0
      },
      "text/plain": [
       "events.out.tfevents.1742292675.2e9eb67a0202.201.1:   0%|          | 0.00/11.4k [00:00<?, ?B/s]"
      ]
     },
     "metadata": {},
     "output_type": "display_data"
    },
    {
     "data": {
      "application/vnd.jupyter.widget-view+json": {
       "model_id": "4db70a63111e4e0b8aa0c6edb859e41f",
       "version_major": 2,
       "version_minor": 0
      },
      "text/plain": [
       "Upload 4 LFS files:   0%|          | 0/4 [00:00<?, ?it/s]"
      ]
     },
     "metadata": {},
     "output_type": "display_data"
    },
    {
     "data": {
      "application/vnd.jupyter.widget-view+json": {
       "model_id": "8830fc2995cd4b2cb8f6ddf12f8a6022",
       "version_major": 2,
       "version_minor": 0
      },
      "text/plain": [
       "events.out.tfevents.1742292663.2e9eb67a0202.201.0:   0%|          | 0.00/5.25k [00:00<?, ?B/s]"
      ]
     },
     "metadata": {},
     "output_type": "display_data"
    },
    {
     "data": {
      "application/vnd.jupyter.widget-view+json": {
       "model_id": "023b265318254a33a622e4004c064803",
       "version_major": 2,
       "version_minor": 0
      },
      "text/plain": [
       "training_args.bin:   0%|          | 0.00/5.37k [00:00<?, ?B/s]"
      ]
     },
     "metadata": {},
     "output_type": "display_data"
    },
    {
     "data": {
      "application/vnd.jupyter.widget-view+json": {
       "model_id": "05dbad474770415784c50460026b5221",
       "version_major": 2,
       "version_minor": 0
      },
      "text/plain": [
       "README.md:   0%|          | 0.00/5.17k [00:00<?, ?B/s]"
      ]
     },
     "metadata": {},
     "output_type": "display_data"
    },
    {
     "name": "stderr",
     "output_type": "stream",
     "text": [
      "No files have been modified since last commit. Skipping to prevent empty commit.\n",
      "WARNING:huggingface_hub.hf_api:No files have been modified since last commit. Skipping to prevent empty commit.\n"
     ]
    },
    {
     "data": {
      "application/vnd.google.colaboratory.intrinsic+json": {
       "type": "string"
      },
      "text/plain": [
       "CommitInfo(commit_url='https://huggingface.co/majorSeaweed/Bert_Uncased_FishingURL_Teacher/commit/312786edc3e70be68ba50edbb07fbbeb406e0f7e', commit_message='Upload tokenizer', commit_description='', oid='312786edc3e70be68ba50edbb07fbbeb406e0f7e', pr_url=None, repo_url=RepoUrl('https://huggingface.co/majorSeaweed/Bert_Uncased_FishingURL_Teacher', endpoint='https://huggingface.co', repo_type='model', repo_id='majorSeaweed/Bert_Uncased_FishingURL_Teacher'), pr_revision=None, pr_num=None)"
      ]
     },
     "execution_count": 19,
     "metadata": {},
     "output_type": "execute_result"
    }
   ],
   "source": [
    "trainer.push_to_hub('majorSeaweed/Bert_Uncased_FishingURL_Teacher')\n",
    "tokenizer.push_to_hub('majorSeaweed/Bert_Uncased_FishingURL_Teacher')"
   ]
  },
  {
   "cell_type": "code",
   "execution_count": null,
   "metadata": {
    "id": "c06C2BFjwDyK"
   },
   "outputs": [],
   "source": []
  }
 ],
 "metadata": {
  "accelerator": "GPU",
  "colab": {
   "gpuType": "T4",
   "provenance": []
  },
  "kernelspec": {
   "display_name": "Python 3",
   "name": "python3"
  },
  "language_info": {
   "name": "python"
  }
 },
 "nbformat": 4,
 "nbformat_minor": 0
}
