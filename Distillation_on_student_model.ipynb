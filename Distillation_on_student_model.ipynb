{
 "cells": [
  {
   "cell_type": "code",
   "execution_count": 1,
   "metadata": {
    "id": "gUANyJLiuCZI"
   },
   "outputs": [],
   "source": [
    "!pip3 -q install datasets transformers evaluate huggingface_hub bitsandbytes"
   ]
  },
  {
   "cell_type": "code",
   "execution_count": 2,
   "metadata": {
    "colab": {
     "base_uri": "https://localhost:8080/"
    },
    "id": "FIRoa6IpuG7l",
    "outputId": "ccdbec68-3ca9-4560-a20d-ad2014c64261"
   },
   "outputs": [
    {
     "name": "stdout",
     "output_type": "stream",
     "text": [
      "\u001b[2K     \u001b[90m━━━━━━━━━━━━━━━━━━━━━━━━━━━━━━━━━━━━━━━━\u001b[0m \u001b[32m44.0/44.0 kB\u001b[0m \u001b[31m3.4 MB/s\u001b[0m eta \u001b[36m0:00:00\u001b[0m\n",
      "\u001b[2K   \u001b[90m━━━━━━━━━━━━━━━━━━━━━━━━━━━━━━━━━━━━━━━━\u001b[0m \u001b[32m10.0/10.0 MB\u001b[0m \u001b[31m37.5 MB/s\u001b[0m eta \u001b[36m0:00:00\u001b[0m\n",
      "\u001b[?25h"
     ]
    }
   ],
   "source": [
    "!pip3 -q install --upgrade transformers"
   ]
  },
  {
   "cell_type": "code",
   "execution_count": 3,
   "metadata": {
    "id": "qoiNWqdiuOjJ"
   },
   "outputs": [],
   "source": [
    "from datasets import load_dataset\n",
    "from transformers import AutoTokenizer, AutoModelForSequenceClassification, TrainingArguments, Trainer\n",
    "import evaluate\n",
    "import numpy as np\n",
    "from transformers import DataCollatorWithPadding"
   ]
  },
  {
   "cell_type": "code",
   "execution_count": 4,
   "metadata": {
    "id": "-3vKILpSuQbO"
   },
   "outputs": [],
   "source": [
    "import torch\n",
    "import torch.nn as nn\n",
    "import torch.optim as optim\n",
    "from torch.utils.data import DataLoader\n",
    "from sklearn.metrics import accuracy_score, precision_recall_fscore_support"
   ]
  },
  {
   "cell_type": "code",
   "execution_count": 5,
   "metadata": {
    "colab": {
     "base_uri": "https://localhost:8080/",
     "height": 601,
     "referenced_widgets": [
      "8378ad27de7448c5b1955c4267d43515",
      "5c3f1cf111f44496b54153186e8f7d3f",
      "fc5f6f7e570f4fd9b8418979cd6c62a1",
      "605738fd18424df8be7dba19bd27a232",
      "60a4b8326093406fb2b9f4e21839ace3",
      "d75f836d90d44197880c2634a0c4d077",
      "2f763f4ff0f14f74a563e6b0925a7b20",
      "a40341f9181840f586b686e467548623",
      "a15ef0ef677843b1a9c89c4422168d43",
      "438a901e8e2240e0af4930b7584a0fb4",
      "bee20f7be0ab41739a183f444859115d",
      "b0d083f919ab43c2b4977a39cf4fcb6f",
      "a9b63828be284b07bd8bd576dfbc3a7f",
      "70223cde7cd14950b0917133b7990a58",
      "c000f9a0426c4835841b96e4d6253055",
      "703a1e6d746e4c8987d004509f14e0e7",
      "6e64066138d647bfaeefa79d4d2479ed",
      "07d30bcf348b4af182f95d23bdc30bd3",
      "f28a48f840ee4c7c81a03321f4c2bffb",
      "8d7d4383b8cd469cb5e40dfa60d2cb38",
      "4c555e4c495b4ce1ab2271d9df6e28fc",
      "0a8c005b82644a3b829b6436263ae34d",
      "5d8dd32ddcfd43f194f02f4a57efaa00",
      "22eb6112a495408aa5f92a26511541a4",
      "51f8430d702442ffbfe4c8c8fd2d6edc",
      "94c8a634b3584169a3c2f7018e33c7a9",
      "e835e7892d454ed2be4cefb4a56648f4",
      "293b6032490d45d088a9e90becd35e07",
      "f64dc7dccb464ed9b69dd9b579a9f41e",
      "53274a036c3743afa9cb2e8ddf3444e7",
      "1d0146895702403595567d4046f79e4e",
      "c41dd9b6581f4c3895607c656506d029",
      "5afffd92070242389a05be89e2e03047",
      "23bcc14e31314ae1bd76026eb5bc22a3",
      "c84150ccd45f4aa2a0110ba816c09ed3",
      "4bac2ecad3ae47edaf0c56d4a20a6858",
      "bf2e82d9d54045b88d56ab099d635f84",
      "a3354e935e714456b65bdd3573175206",
      "eed47ef2a5774a4888d1a8183b909bd8",
      "6cd2aa56dbcf49088a04327c7f145b17",
      "077b4886e94b4b6b8f1981748c8c6167",
      "9f211236e61246f49eadf6c6f853a7c8",
      "cfce2d5dd5d6402cb7d49526dfb17eef",
      "6b987fe8ccdc4f9eba46c8051c8e1456",
      "94cbe8b9c58f4679af8076b4821cf176",
      "67ac82018b474592bfb00e0f54863690",
      "616aed0de10d4b4d966192041310d846",
      "969ed653bea44325b1c5eea557e82db6",
      "14b9a29c9b9741efac499dc23d48ad35",
      "73a0f2954bb44fe681af50bf22382c1e",
      "86068fc3266e46748e06c6e9a2e4d488",
      "6dd184071ce846a289f6b0b5d1279797",
      "4d38b09515b7409a90677ce4bef5f670",
      "bf40fea836904b248254469606476f13",
      "f1d926f717e34bab9b10ad3e581209e6",
      "c193e826762c4e58a7ba2e5f818998aa",
      "3b8fc26a810a42808e6bc29550506ad2",
      "3aabe650519f467bab251c9c8b6ae734",
      "2dd6e06311fd49f39be537ef0d487f00",
      "2fd6f26ab12c41c08a94c4c5c3e26fe5",
      "8c892781a4f34969985def0f9552cabb",
      "2ff79490451140ae9a42840d23bd8875",
      "53b9dc47263a4451a3394c791e2e6b67",
      "51e82f43c8ad45738efc941bbab21c71",
      "255c2839e6b6484b84960da512ab309a",
      "78a2d4f1e63048768c3e4cc30ba79340",
      "1058785520944b3f85a6da62511e53cd",
      "ca15c9a69cf24e229b6cdf8f48e97777",
      "3049d51304fc4736b1ff90fbfa65db39",
      "ea28df843e194fb3af31536d6e0905d1",
      "c2464b8461684321bebfec3cc18de7f8",
      "a5af33eba89b4ecab5515a1ab5692f64",
      "4c5a484754fa4b59962b179f2581a909",
      "684b388d0326432fafb2173129d873bc",
      "20ab7f79f3d94bdeaeda17ab61dbc421",
      "7433c30fea554e488a50b4f78c1656a8",
      "eb8bc34bb81b40b8836b9f82a110a401"
     ]
    },
    "id": "sxfqmYJbuSA_",
    "outputId": "84c823f8-89b9-4904-d7d7-65f8344ab675"
   },
   "outputs": [
    {
     "name": "stderr",
     "output_type": "stream",
     "text": [
      "/usr/local/lib/python3.11/dist-packages/huggingface_hub/utils/_auth.py:94: UserWarning: \n",
      "The secret `HF_TOKEN` does not exist in your Colab secrets.\n",
      "To authenticate with the Hugging Face Hub, create a token in your settings tab (https://huggingface.co/settings/tokens), set it as secret in your Google Colab and restart your session.\n",
      "You will be able to reuse this secret in all of your notebooks.\n",
      "Please note that authentication is recommended but still optional to access public models or datasets.\n",
      "  warnings.warn(\n"
     ]
    },
    {
     "data": {
      "application/vnd.jupyter.widget-view+json": {
       "model_id": "8378ad27de7448c5b1955c4267d43515",
       "version_major": 2,
       "version_minor": 0
      },
      "text/plain": [
       "README.md:   0%|          | 0.00/1.45k [00:00<?, ?B/s]"
      ]
     },
     "metadata": {},
     "output_type": "display_data"
    },
    {
     "data": {
      "application/vnd.jupyter.widget-view+json": {
       "model_id": "b0d083f919ab43c2b4977a39cf4fcb6f",
       "version_major": 2,
       "version_minor": 0
      },
      "text/plain": [
       "train-00000-of-00001.parquet:   0%|          | 0.00/98.0k [00:00<?, ?B/s]"
      ]
     },
     "metadata": {},
     "output_type": "display_data"
    },
    {
     "data": {
      "application/vnd.jupyter.widget-view+json": {
       "model_id": "5d8dd32ddcfd43f194f02f4a57efaa00",
       "version_major": 2,
       "version_minor": 0
      },
      "text/plain": [
       "validation-00000-of-00001.parquet:   0%|          | 0.00/21.4k [00:00<?, ?B/s]"
      ]
     },
     "metadata": {},
     "output_type": "display_data"
    },
    {
     "data": {
      "application/vnd.jupyter.widget-view+json": {
       "model_id": "23bcc14e31314ae1bd76026eb5bc22a3",
       "version_major": 2,
       "version_minor": 0
      },
      "text/plain": [
       "test-00000-of-00001.parquet:   0%|          | 0.00/24.5k [00:00<?, ?B/s]"
      ]
     },
     "metadata": {},
     "output_type": "display_data"
    },
    {
     "data": {
      "application/vnd.jupyter.widget-view+json": {
       "model_id": "94cbe8b9c58f4679af8076b4821cf176",
       "version_major": 2,
       "version_minor": 0
      },
      "text/plain": [
       "Generating train split:   0%|          | 0/2100 [00:00<?, ? examples/s]"
      ]
     },
     "metadata": {},
     "output_type": "display_data"
    },
    {
     "data": {
      "application/vnd.jupyter.widget-view+json": {
       "model_id": "c193e826762c4e58a7ba2e5f818998aa",
       "version_major": 2,
       "version_minor": 0
      },
      "text/plain": [
       "Generating validation split:   0%|          | 0/450 [00:00<?, ? examples/s]"
      ]
     },
     "metadata": {},
     "output_type": "display_data"
    },
    {
     "data": {
      "application/vnd.jupyter.widget-view+json": {
       "model_id": "1058785520944b3f85a6da62511e53cd",
       "version_major": 2,
       "version_minor": 0
      },
      "text/plain": [
       "Generating test split:   0%|          | 0/450 [00:00<?, ? examples/s]"
      ]
     },
     "metadata": {},
     "output_type": "display_data"
    },
    {
     "data": {
      "text/plain": [
       "DatasetDict({\n",
       "    train: Dataset({\n",
       "        features: ['text', 'labels'],\n",
       "        num_rows: 2100\n",
       "    })\n",
       "    validation: Dataset({\n",
       "        features: ['text', 'labels'],\n",
       "        num_rows: 450\n",
       "    })\n",
       "    test: Dataset({\n",
       "        features: ['text', 'labels'],\n",
       "        num_rows: 450\n",
       "    })\n",
       "})"
      ]
     },
     "execution_count": 5,
     "metadata": {},
     "output_type": "execute_result"
    }
   ],
   "source": [
    "dataset_dict = load_dataset(\"shawhin/phishing-site-classification\")\n",
    "dataset_dict"
   ]
  },
  {
   "cell_type": "code",
   "execution_count": 21,
   "metadata": {
    "colab": {
     "base_uri": "https://localhost:8080/",
     "height": 209,
     "referenced_widgets": [
      "9cbe740028d44d119f4584f7beb67b3d",
      "60a17738dbeb48ebb27a8615f9344f06",
      "1e626558927144078f93e47ed85f3c88",
      "5fa21dbdb1cc4fe9868e1d9a262fb601",
      "69074fcafa4448748ad4473a5cd773d2",
      "92cb6554a6a44c57b8cb7502d8c3d2a8",
      "2139d576d36948a5b171bf327d1d35b8",
      "d507d2e81bd447a4bc0dcce4b104de53",
      "c10726461a51435cbfa911683ded189f",
      "3b1b0e18f3b54f7183b396c6c3ac7214",
      "665dbe28cc41482aa59d7a10158da010",
      "4c1d071171a74ec09dded2e9d865568a",
      "4c730f9b19764581bec78cc7d28b9051",
      "e577b17201504cb49499601e94a74c3d",
      "9e634f7e899049f49e71ad7994c8725f",
      "2aa602d130fb411b9d7b4d6e7ca19300",
      "45950aef48674ee4abaccd87c8b366c2",
      "f02475f87f204b28a21fb1c672b22ead",
      "93127fb9497748d1b60e78f53764afd3",
      "97d7a4da682b442aaa463074848e45c0",
      "c51c21b2ddc943afaea764e9f0823a9b",
      "3ab98e1cd94c46da9935c42650117255",
      "9450cb23015e4c5aa9c90a968fdf0486",
      "20c625682c3f4c55a48e7d0010af17d6",
      "195f99bc8da74f72ab28412333a3982f",
      "3dcf2e8451534b01b48952bd7afc26b9",
      "61d0ad03e09740beb10d4c45f6642128",
      "47c54fc34945419193512e658f5561b9",
      "0a6aaa5d693f4aa5a1567539b0e7523c",
      "e6411251bb1b44bdb741fd40f79a7950",
      "e606ae905cda45479dd8e63f54d1ed78",
      "c2d36e8c51a14164a4c023d9be9b5fc9",
      "d255b37fa72542a3b1c579a558cf7e97",
      "46d15d2ca5884ac79932eddc6425360e",
      "4e124526603b4680927adbb463034140",
      "fc65c2c1803645b7a30ef394f3444b16",
      "2f7db72c78294797be4dac07bf8d924a",
      "3bb8e049ac9249a6b2464378040ed5db",
      "11fb3f7329ba472abbdc04dfb1a001c6",
      "1473a974c77d4b919363a6faa932b9b2",
      "22e11753bcaf43ebbdd1ef0634afe9d0",
      "635bbafb91c040e484f0c571bae78fd9",
      "2655bf8d83a2482898dda532f37f5a6d",
      "a5abd0eb2ebb4787953a9e87460cdd06",
      "affd304d062d4973879a91f88315037f",
      "55c1aa3f87df45e6ade4afe171c63ca7",
      "30bcb319bb41483aa6b8783eb354b538",
      "fe9181de590e493185b9423c6f68e94d",
      "2588fcfb2ee94649bbf0236443ef2085",
      "81ed547251af4e8eb81d198292d60727",
      "9fd84f8940e7465583ad81723e9b93df",
      "81d9a87ed78949ec8b792d4edc76778f",
      "5f313d60172a47c0921cddb8bd95637d",
      "fe6d69b0b88e4aeb8f724ad19ac22b8b",
      "5722a12342074d57a493b8ee8a04b54a",
      "277ee3f948334229b410de700c94a283",
      "75b79bb7c68f46378984f5da3491175d",
      "15fd42e5cf5e44baa500f753a438eb44",
      "0bda340894f9494a8225118bdf022d1a",
      "4a723ebc536147e8b21f1bd3b989b6cf",
      "41c2b80557df4a57a91751f57c8bb5cf",
      "72e0bba57f59430dac21bbafd3d286bf",
      "caf5aa08e67b4a95ac4f52a59b09ac45",
      "a42a1e34bd3846c39a3c9ff6d54b6d1b",
      "d50972582bbe474cab6d79bbad59ba65",
      "a7734c9b46da40029fd459355ed6f945"
     ]
    },
    "id": "Jst1Hr77wRFq",
    "outputId": "7a810420-4e95-405e-c7a0-8ddde5f20fb9"
   },
   "outputs": [
    {
     "data": {
      "application/vnd.jupyter.widget-view+json": {
       "model_id": "9cbe740028d44d119f4584f7beb67b3d",
       "version_major": 2,
       "version_minor": 0
      },
      "text/plain": [
       "tokenizer_config.json:   0%|          | 0.00/1.22k [00:00<?, ?B/s]"
      ]
     },
     "metadata": {},
     "output_type": "display_data"
    },
    {
     "data": {
      "application/vnd.jupyter.widget-view+json": {
       "model_id": "4c1d071171a74ec09dded2e9d865568a",
       "version_major": 2,
       "version_minor": 0
      },
      "text/plain": [
       "vocab.txt:   0%|          | 0.00/232k [00:00<?, ?B/s]"
      ]
     },
     "metadata": {},
     "output_type": "display_data"
    },
    {
     "data": {
      "application/vnd.jupyter.widget-view+json": {
       "model_id": "9450cb23015e4c5aa9c90a968fdf0486",
       "version_major": 2,
       "version_minor": 0
      },
      "text/plain": [
       "tokenizer.json:   0%|          | 0.00/711k [00:00<?, ?B/s]"
      ]
     },
     "metadata": {},
     "output_type": "display_data"
    },
    {
     "data": {
      "application/vnd.jupyter.widget-view+json": {
       "model_id": "46d15d2ca5884ac79932eddc6425360e",
       "version_major": 2,
       "version_minor": 0
      },
      "text/plain": [
       "special_tokens_map.json:   0%|          | 0.00/125 [00:00<?, ?B/s]"
      ]
     },
     "metadata": {},
     "output_type": "display_data"
    },
    {
     "data": {
      "application/vnd.jupyter.widget-view+json": {
       "model_id": "affd304d062d4973879a91f88315037f",
       "version_major": 2,
       "version_minor": 0
      },
      "text/plain": [
       "config.json:   0%|          | 0.00/851 [00:00<?, ?B/s]"
      ]
     },
     "metadata": {},
     "output_type": "display_data"
    },
    {
     "data": {
      "application/vnd.jupyter.widget-view+json": {
       "model_id": "277ee3f948334229b410de700c94a283",
       "version_major": 2,
       "version_minor": 0
      },
      "text/plain": [
       "model.safetensors:   0%|          | 0.00/438M [00:00<?, ?B/s]"
      ]
     },
     "metadata": {},
     "output_type": "display_data"
    }
   ],
   "source": [
    "device = torch.device('cuda')\n",
    "model_path = \"majorSeaweed/Bert_Uncased_FishingURL_Teacher\"\n",
    "\n",
    "tokenizer = AutoTokenizer.from_pretrained(model_path)\n",
    "teacher_model = AutoModelForSequenceClassification.from_pretrained(model_path).to(device)"
   ]
  },
  {
   "cell_type": "code",
   "execution_count": 22,
   "metadata": {
    "colab": {
     "base_uri": "https://localhost:8080/",
     "height": 103,
     "referenced_widgets": [
      "445c073bbf7c4365aaef53b1f5e4fdb7",
      "e97b2621fd574f929dc82c230479829e",
      "8d4c8be6c50340438a89f7f2ac54be6e",
      "144f66f77c004da8ae4c22c0f65f8a59",
      "cc760cde6e3947878629ea96bf036b47",
      "4e1e6a8d783d429ba2ed081f11511a75",
      "d07cb7dff999400d96862b3a850e9be8",
      "9c0c7e7bcb9843dcb517f191a8fd155c",
      "77c33e863bec477ab27cfaaa79ccd364",
      "49265f69c288421a92b4f6037c3fb265",
      "73b7e09271624af7a676866e0e4732fe"
     ]
    },
    "id": "8WgjUxt1wTN7",
    "outputId": "f62d8dfe-f649-4d55-fd10-adadb09daa98"
   },
   "outputs": [
    {
     "data": {
      "application/vnd.jupyter.widget-view+json": {
       "model_id": "445c073bbf7c4365aaef53b1f5e4fdb7",
       "version_major": 2,
       "version_minor": 0
      },
      "text/plain": [
       "model.safetensors:   0%|          | 0.00/268M [00:00<?, ?B/s]"
      ]
     },
     "metadata": {},
     "output_type": "display_data"
    },
    {
     "name": "stderr",
     "output_type": "stream",
     "text": [
      "Some weights of DistilBertForSequenceClassification were not initialized from the model checkpoint at distilbert-base-uncased and are newly initialized: ['classifier.bias', 'classifier.weight', 'pre_classifier.bias', 'pre_classifier.weight']\n",
      "You should probably TRAIN this model on a down-stream task to be able to use it for predictions and inference.\n"
     ]
    }
   ],
   "source": [
    "from transformers import DistilBertForSequenceClassification, DistilBertConfig\n",
    "\n",
    "config = DistilBertConfig(n_heads=8, n_layers=4)\n",
    "student_model = DistilBertForSequenceClassification.from_pretrained(\"distilbert-base-uncased\",\n",
    "                                                                    config=config,).to(device)"
   ]
  },
  {
   "cell_type": "code",
   "execution_count": 23,
   "metadata": {
    "colab": {
     "base_uri": "https://localhost:8080/",
     "height": 113,
     "referenced_widgets": [
      "d924697655ef450e908296a3599b46ac",
      "8592589edb6547e397bfc1203aa8033f",
      "dd5ef7f344c64e99af0cd0437d0d9e8a",
      "a4d682b8d34b4443a37b63cb763769a4",
      "857dc59ef02f418ab5c3feab7e14c5d5",
      "5257eac7bf1545c187c6c1b1da560d21",
      "139eb616e7394c6990e93b229440b627",
      "2a7307e8505f41a7ad040b6f6d784290",
      "d68e40423a2940a7a1a010b326bc9e0f",
      "df467a87684f41609eeeb9981950a490",
      "f32f49b57ae4453f857b3ee7b6e8c278",
      "79896b907a7f4335b43592cfc28a3c1c",
      "3676a11b5a1849ebb5a5aea5a97b28a7",
      "dd2f7857fdaf4ad98eda4f35a3aab033",
      "6ea8301495864e38ac6a88d27cac63e9",
      "1bb84ff2511647e2a9b5bb4d579e8711",
      "64f552ff916b4b0a8ace3c7eb14a944a",
      "28de052ada7f4c34b386cb8c4a2765d3",
      "5f14eacf4c2943e7afc628161f755c97",
      "31b43e3863074e5785113df1ef8ffda3",
      "11dc37dee7334637b31f2a4155cfcfc6",
      "2a18a2101f8340c5b3f4951617603fd6",
      "5a19b61e405745948c0592cd215e2ed2",
      "123f544643224248ad08af87011ea129",
      "2bf99612a4c84eaba4741b3685e9678a",
      "c6486f661be340a6abd6fa27e8a5a6e1",
      "34875dc7a7824019b2a53eaba5264d35",
      "1742e8a553824acd99cd9430997fb197",
      "3fded533563a4640ac3a72441df0acf6",
      "aff559e70c66438c89c70c54a45657e8",
      "c7a69fd44cfc45cfbaff9ffd607ee9b9",
      "fdb2d0bf543e4d38b4c48b2d4016700d",
      "0b89a14595b84db89d73acb75df199f4"
     ]
    },
    "id": "e9mb23zzwdc6",
    "outputId": "59952489-0a11-499a-a3c3-92d67e768a93"
   },
   "outputs": [
    {
     "data": {
      "application/vnd.jupyter.widget-view+json": {
       "model_id": "d924697655ef450e908296a3599b46ac",
       "version_major": 2,
       "version_minor": 0
      },
      "text/plain": [
       "Map:   0%|          | 0/2100 [00:00<?, ? examples/s]"
      ]
     },
     "metadata": {},
     "output_type": "display_data"
    },
    {
     "data": {
      "application/vnd.jupyter.widget-view+json": {
       "model_id": "79896b907a7f4335b43592cfc28a3c1c",
       "version_major": 2,
       "version_minor": 0
      },
      "text/plain": [
       "Map:   0%|          | 0/450 [00:00<?, ? examples/s]"
      ]
     },
     "metadata": {},
     "output_type": "display_data"
    },
    {
     "data": {
      "application/vnd.jupyter.widget-view+json": {
       "model_id": "5a19b61e405745948c0592cd215e2ed2",
       "version_major": 2,
       "version_minor": 0
      },
      "text/plain": [
       "Map:   0%|          | 0/450 [00:00<?, ? examples/s]"
      ]
     },
     "metadata": {},
     "output_type": "display_data"
    }
   ],
   "source": [
    "def preprocess_function(examples):\n",
    "    return tokenizer(examples[\"text\"], padding='max_length', truncation=True)\n",
    "tokenized_dataset = dataset_dict.map(preprocess_function, batched=True)\n",
    "tokenized_dataset.set_format(type='torch', columns=['input_ids', 'attention_mask', 'labels'])"
   ]
  },
  {
   "cell_type": "code",
   "execution_count": 24,
   "metadata": {
    "id": "hlDq1xwxwgPP"
   },
   "outputs": [],
   "source": [
    "def evaluate_model(model, dataloader, device):\n",
    "    model.eval()\n",
    "    all_preds = []\n",
    "    all_labels = []\n",
    "\n",
    "    with torch.no_grad():\n",
    "        for batch in dataloader:\n",
    "            input_ids = batch['input_ids'].to(device)\n",
    "            attention_mask = batch['attention_mask'].to(device)\n",
    "            labels = batch['labels'].to(device)\n",
    "\n",
    "            outputs = model(input_ids, attention_mask=attention_mask)\n",
    "            logits = outputs.logits\n",
    "\n",
    "            preds = torch.argmax(logits, dim=1).cpu().numpy()\n",
    "            all_preds.extend(preds)\n",
    "            all_labels.extend(labels.cpu().numpy())\n",
    "\n",
    "    accuracy = accuracy_score(all_labels, all_preds)\n",
    "    precision, recall, f1, _ = precision_recall_fscore_support(all_labels, all_preds, average='binary')\n",
    "\n",
    "    return accuracy, precision, recall, f1"
   ]
  },
  {
   "cell_type": "code",
   "execution_count": 25,
   "metadata": {
    "id": "ra1dcm4Ewmkv"
   },
   "outputs": [],
   "source": [
    "def distillation_loss(student_logits, teacher_logits, true_labels, temperature, alpha):\n",
    "    soft_targets = nn.functional.softmax(teacher_logits / temperature, dim=1)\n",
    "    student_soft = nn.functional.log_softmax(student_logits / temperature, dim=1)\n",
    "\n",
    "    distill_loss = nn.functional.kl_div(student_soft, soft_targets, reduction='batchmean') * (temperature ** 2)\n",
    "    hard_loss = nn.CrossEntropyLoss()(student_logits, true_labels)\n",
    "\n",
    "    loss = alpha * distill_loss + (1.0 - alpha) * hard_loss\n",
    "\n",
    "    return loss"
   ]
  },
  {
   "cell_type": "code",
   "execution_count": 26,
   "metadata": {
    "id": "UxV-XC4NwoQR"
   },
   "outputs": [],
   "source": [
    "batch_size = 32\n",
    "lr = 1e-4\n",
    "num_epochs = 10\n",
    "temperature = 2.0\n",
    "alpha = 0.5"
   ]
  },
  {
   "cell_type": "code",
   "execution_count": 29,
   "metadata": {
    "id": "YYDCtQ47wp6n"
   },
   "outputs": [],
   "source": [
    "optimizer = optim.Adam(student_model.parameters(), lr=lr)\n",
    "dataloader = DataLoader(tokenized_dataset['train'], batch_size=batch_size)\n",
    "test_dataloader = DataLoader(tokenized_dataset['test'], batch_size=batch_size)\n",
    "val_dataloader = DataLoader(tokenized_dataset['validation'], batch_size=batch_size)"
   ]
  },
  {
   "cell_type": "code",
   "execution_count": 30,
   "metadata": {
    "colab": {
     "base_uri": "https://localhost:8080/"
    },
    "id": "ziFwHn8AwtNF",
    "outputId": "e1c4e5bf-0bcc-430b-87aa-deb206b94d11"
   },
   "outputs": [
    {
     "name": "stdout",
     "output_type": "stream",
     "text": [
      "Epoch 1 completed with loss: 0.14367979764938354\n",
      "Teacher (validation) - Accuracy: 0.8711, Precision: 0.9073, Recall: 0.8267, F1 Score: 0.8651\n",
      "Student (validation)) - Accuracy: 0.8867, Precision: 0.9485, Recall: 0.8178, F1 Score: 0.8783\n",
      "\n",
      "\n",
      "Epoch 2 completed with loss: 0.10114365816116333\n",
      "Teacher (validation) - Accuracy: 0.8711, Precision: 0.9073, Recall: 0.8267, F1 Score: 0.8651\n",
      "Student (validation)) - Accuracy: 0.9311, Precision: 0.9330, Recall: 0.9289, F1 Score: 0.9310\n",
      "\n",
      "\n",
      "Epoch 3 completed with loss: 0.11216779053211212\n",
      "Teacher (validation) - Accuracy: 0.8711, Precision: 0.9073, Recall: 0.8267, F1 Score: 0.8651\n",
      "Student (validation)) - Accuracy: 0.9356, Precision: 0.9495, Recall: 0.9200, F1 Score: 0.9345\n",
      "\n",
      "\n",
      "Epoch 4 completed with loss: 0.11616306006908417\n",
      "Teacher (validation) - Accuracy: 0.8711, Precision: 0.9073, Recall: 0.8267, F1 Score: 0.8651\n",
      "Student (validation)) - Accuracy: 0.8733, Precision: 0.9884, Recall: 0.7556, F1 Score: 0.8564\n",
      "\n",
      "\n",
      "Epoch 5 completed with loss: 0.07720547914505005\n",
      "Teacher (validation) - Accuracy: 0.8711, Precision: 0.9073, Recall: 0.8267, F1 Score: 0.8651\n",
      "Student (validation)) - Accuracy: 0.9222, Precision: 0.9567, Recall: 0.8844, F1 Score: 0.9192\n",
      "\n",
      "\n",
      "Epoch 6 completed with loss: 0.08082729578018188\n",
      "Teacher (validation) - Accuracy: 0.8711, Precision: 0.9073, Recall: 0.8267, F1 Score: 0.8651\n",
      "Student (validation)) - Accuracy: 0.9267, Precision: 0.9068, Recall: 0.9511, F1 Score: 0.9284\n",
      "\n",
      "\n",
      "Epoch 7 completed with loss: 0.05936211347579956\n",
      "Teacher (validation) - Accuracy: 0.8711, Precision: 0.9073, Recall: 0.8267, F1 Score: 0.8651\n",
      "Student (validation)) - Accuracy: 0.9289, Precision: 0.9038, Recall: 0.9600, F1 Score: 0.9310\n",
      "\n",
      "\n",
      "Epoch 8 completed with loss: 0.06039554625749588\n",
      "Teacher (validation) - Accuracy: 0.8711, Precision: 0.9073, Recall: 0.8267, F1 Score: 0.8651\n",
      "Student (validation)) - Accuracy: 0.9400, Precision: 0.9342, Recall: 0.9467, F1 Score: 0.9404\n",
      "\n",
      "\n",
      "Epoch 9 completed with loss: 0.05791258066892624\n",
      "Teacher (validation) - Accuracy: 0.8711, Precision: 0.9073, Recall: 0.8267, F1 Score: 0.8651\n",
      "Student (validation)) - Accuracy: 0.9422, Precision: 0.9502, Recall: 0.9333, F1 Score: 0.9417\n",
      "\n",
      "\n",
      "Epoch 10 completed with loss: 0.05500730499625206\n",
      "Teacher (validation) - Accuracy: 0.8711, Precision: 0.9073, Recall: 0.8267, F1 Score: 0.8651\n",
      "Student (validation)) - Accuracy: 0.9267, Precision: 0.9486, Recall: 0.9022, F1 Score: 0.9248\n",
      "\n",
      "\n"
     ]
    }
   ],
   "source": [
    "student_model.train()\n",
    "\n",
    "for epoch in range(num_epochs):\n",
    "    for batch in dataloader:\n",
    "        input_ids = batch['input_ids'].to(device)\n",
    "        attention_mask = batch['attention_mask'].to(device)\n",
    "        labels = batch['labels'].to(device)\n",
    "\n",
    "        with torch.no_grad():\n",
    "            teacher_outputs = teacher_model(input_ids, attention_mask=attention_mask)\n",
    "            teacher_logits = teacher_outputs.logits\n",
    "\n",
    "        student_outputs = student_model(input_ids, attention_mask=attention_mask)\n",
    "        student_logits = student_outputs.logits\n",
    "\n",
    "        loss = distillation_loss(student_logits, teacher_logits, labels, temperature, alpha)\n",
    "\n",
    "        optimizer.zero_grad()\n",
    "        loss.backward()\n",
    "        optimizer.step()\n",
    "\n",
    "    print(f\"Epoch {epoch + 1} completed with loss: {loss.item()}\")\n",
    "\n",
    "    teacher_accuracy, teacher_precision, teacher_recall, teacher_f1 = evaluate_model(teacher_model, val_dataloader, device)\n",
    "    print(f\"Teacher (validation) - Accuracy: {teacher_accuracy:.4f}, Precision: {teacher_precision:.4f}, Recall: {teacher_recall:.4f}, F1 Score: {teacher_f1:.4f}\")\n",
    "\n",
    "    student_accuracy, student_precision, student_recall, student_f1 = evaluate_model(student_model, val_dataloader, device)\n",
    "    print(f\"Student (validation)) - Accuracy: {student_accuracy:.4f}, Precision: {student_precision:.4f}, Recall: {student_recall:.4f}, F1 Score: {student_f1:.4f}\")\n",
    "    print(\"\\n\")\n",
    "\n",
    "    student_model.train()"
   ]
  },
  {
   "cell_type": "code",
   "execution_count": 31,
   "metadata": {
    "colab": {
     "base_uri": "https://localhost:8080/"
    },
    "id": "VcZnrpfkwu5K",
    "outputId": "2316fd7e-8025-47f1-a5c2-2c06c9ff17d1"
   },
   "outputs": [
    {
     "name": "stdout",
     "output_type": "stream",
     "text": [
      "Teacher (test) - Accuracy: 0.8711, Precision: 0.9073, Recall: 0.8267, F1 Score: 0.8651\n",
      "Student (test) - Accuracy: 0.9267, Precision: 0.9486, Recall: 0.9022, F1 Score: 0.9248\n"
     ]
    }
   ],
   "source": [
    "teacher_accuracy, teacher_precision, teacher_recall, teacher_f1 = evaluate_model(teacher_model, val_dataloader, device)\n",
    "print(f\"Teacher (test) - Accuracy: {teacher_accuracy:.4f}, Precision: {teacher_precision:.4f}, Recall: {teacher_recall:.4f}, F1 Score: {teacher_f1:.4f}\")\n",
    "student_accuracy, student_precision, student_recall, student_f1 = evaluate_model(student_model, val_dataloader, device)\n",
    "print(f\"Student (test) - Accuracy: {student_accuracy:.4f}, Precision: {student_precision:.4f}, Recall: {student_recall:.4f}, F1 Score: {student_f1:.4f}\")"
   ]
  },
  {
   "cell_type": "code",
   "execution_count": 32,
   "metadata": {
    "colab": {
     "base_uri": "https://localhost:8080/",
     "height": 49,
     "referenced_widgets": [
      "1b0556e24b9e47af9c8ff0a24ce64261",
      "c6bc5d1859db468d95695db8024dd1e1",
      "a056e61d235c4ad8a10b24d6b7ce9f62",
      "94040e8c616745ce8b7a32e5c1860c36",
      "1e7c8f4b86f643a5b4fd4aabb8d92491",
      "1da6ff0c7395485f93d0efff3add6f9e",
      "ef29bb5f9ac143478c55826c945f78ca",
      "34f1fc47fcc546f7b71e9a39e3311599",
      "5be645ebd5d04d238878bea8f1f5b5e8",
      "8524ed27dfce4dfbb508d0df6978e6b0",
      "079ee2f7314942dc9d93a564ec802cf2",
      "d0c38853703d49cfbeaad378ec000411",
      "ee3cb97324574cabb1cb3268df9231b5",
      "7e35bda7750148cf87a8b6c843472671",
      "395b4556c50a49a790591e20c44592d9",
      "79e62ec32a294359bf83c6e701eea2d2",
      "c9f86239230c47a4a346e349e9f80e72",
      "6df5fa49db354266ba137335a607484c",
      "00884886ec214d46a3cf25a2b7cfbaab",
      "cb6962e08e9848afa2805a99dc8faa96",
      "88bdcd201c14494fae7b48c12ccc97af",
      "19cd265da86b42ab9a8b5050f837d844",
      "72d4fa3801ae4449962c7657b85c8c5f"
     ]
    },
    "id": "x3ONJLvoyBYi",
    "outputId": "4db4a4a5-532f-4d0d-dc0d-428bee45f7db"
   },
   "outputs": [
    {
     "data": {
      "application/vnd.jupyter.widget-view+json": {
       "model_id": "1b0556e24b9e47af9c8ff0a24ce64261",
       "version_major": 2,
       "version_minor": 0
      },
      "text/plain": [
       "VBox(children=(HTML(value='<center> <img\\nsrc=https://huggingface.co/front/assets/huggingface_logo-noborder.sv…"
      ]
     },
     "metadata": {},
     "output_type": "display_data"
    }
   ],
   "source": [
    "from huggingface_hub import notebook_login\n",
    "notebook_login()"
   ]
  },
  {
   "cell_type": "code",
   "execution_count": 33,
   "metadata": {
    "colab": {
     "base_uri": "https://localhost:8080/",
     "height": 183,
     "referenced_widgets": [
      "62abe3f90ea3401582c67fc9b76236b9",
      "21bc5385fbcf4a3ea4f64b0c92eb3c7f",
      "6566a16a5b234246af3d1a69a4a63a48",
      "523285bac13d472b9f025c9937a83df9",
      "394d9d401e6a4bcba6e83fcb318c747d",
      "b9757dc7ef334b8c98da09cda58decd8",
      "e53178ccde5841e68434fe768ae4125f",
      "f2f1a003a47b4b74abdde0c19920af4c",
      "6657adb83717472f9005fd280505c05f",
      "a0ebf0296d564491a3bc0b41879f2e18",
      "18a85e2802c2422480cf96ed1a0ae11a",
      "9a5b8e3e210b410da2a723d8aa8d4f19",
      "506772b3f4324b53b108fc22438bf795",
      "0b1b4b9cbe94410a960555fa4b715fd3",
      "c7ebde55081d4d3c90332abfd9d6a231",
      "0e15d83d24c54597bf4b931db2f08ecd",
      "19875931d71545d9ae4b2b0fc5745e70",
      "2ac23c8c4db24f7693a571cf895ce4e4",
      "d1cc6651eb4642a4b0dc03d7a6456cfd",
      "c48c00cc97ee47eebcfc4c050725f656",
      "b361059424ab473cacf881032cd2bac5",
      "f9f4d318e7fa4e42acaa8e51d900e011"
     ]
    },
    "id": "W2R__WsBx-Kh",
    "outputId": "f0f79b91-d733-436c-d540-901c9548ead7"
   },
   "outputs": [
    {
     "data": {
      "application/vnd.jupyter.widget-view+json": {
       "model_id": "62abe3f90ea3401582c67fc9b76236b9",
       "version_major": 2,
       "version_minor": 0
      },
      "text/plain": [
       "README.md:   0%|          | 0.00/5.17k [00:00<?, ?B/s]"
      ]
     },
     "metadata": {},
     "output_type": "display_data"
    },
    {
     "data": {
      "application/vnd.jupyter.widget-view+json": {
       "model_id": "9a5b8e3e210b410da2a723d8aa8d4f19",
       "version_major": 2,
       "version_minor": 0
      },
      "text/plain": [
       "model.safetensors:   0%|          | 0.00/211M [00:00<?, ?B/s]"
      ]
     },
     "metadata": {},
     "output_type": "display_data"
    },
    {
     "name": "stderr",
     "output_type": "stream",
     "text": [
      "No files have been modified since last commit. Skipping to prevent empty commit.\n",
      "WARNING:huggingface_hub.hf_api:No files have been modified since last commit. Skipping to prevent empty commit.\n"
     ]
    },
    {
     "data": {
      "application/vnd.google.colaboratory.intrinsic+json": {
       "type": "string"
      },
      "text/plain": [
       "CommitInfo(commit_url='https://huggingface.co/majorSeaweed/Bert_Uncased_FishingURL_distilled/commit/613ae53620bd6ed41bd32cbcb0c460ddeae7055a', commit_message='Upload tokenizer', commit_description='', oid='613ae53620bd6ed41bd32cbcb0c460ddeae7055a', pr_url=None, repo_url=RepoUrl('https://huggingface.co/majorSeaweed/Bert_Uncased_FishingURL_distilled', endpoint='https://huggingface.co', repo_type='model', repo_id='majorSeaweed/Bert_Uncased_FishingURL_distilled'), pr_revision=None, pr_num=None)"
      ]
     },
     "execution_count": 33,
     "metadata": {},
     "output_type": "execute_result"
    }
   ],
   "source": [
    "student_model.push_to_hub('majorSeaweed/Bert_Uncased_FishingURL_distilled')\n",
    "tokenizer.push_to_hub('majorSeaweed/Bert_Uncased_FishingURL_distilled')"
   ]
  },
  {
   "cell_type": "code",
   "execution_count": null,
   "metadata": {
    "id": "Ajb9dNBOyDYt"
   },
   "outputs": [],
   "source": []
  }
 ],
 "metadata": {
  "accelerator": "GPU",
  "colab": {
   "gpuType": "T4",
   "provenance": []
  },
  "kernelspec": {
   "display_name": "Python 3",
   "name": "python3"
  },
  "language_info": {
   "name": "python"
  }
 },
 "nbformat": 4,
 "nbformat_minor": 0
}
