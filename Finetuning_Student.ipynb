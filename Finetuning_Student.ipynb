{
 "cells": [
  {
   "cell_type": "code",
   "execution_count": 1,
   "metadata": {
    "id": "EOygrhe1g4re"
   },
   "outputs": [],
   "source": [
    "pip -q install datasets transformers evaluate huggingface_hub bitsandbytes"
   ]
  },
  {
   "cell_type": "code",
   "execution_count": null,
   "metadata": {
    "id": "tXyNdeu9g-aW"
   },
   "outputs": [],
   "source": [
    "!pip -q install --upgrade transformers"
   ]
  },
  {
   "cell_type": "code",
   "execution_count": 3,
   "metadata": {
    "id": "4D1mWqgChAn-"
   },
   "outputs": [],
   "source": [
    "from datasets import load_dataset\n",
    "from transformers import AutoTokenizer, AutoModelForSequenceClassification, TrainingArguments, Trainer\n",
    "import evaluate\n",
    "import numpy as np\n",
    "from transformers import DataCollatorWithPadding"
   ]
  },
  {
   "cell_type": "code",
   "execution_count": 4,
   "metadata": {
    "id": "U5pocxnNhCaY"
   },
   "outputs": [],
   "source": [
    "import torch\n",
    "import torch.nn as nn\n",
    "import torch.optim as optim\n",
    "from torch.utils.data import DataLoader\n",
    "from sklearn.metrics import accuracy_score, precision_recall_fscore_support"
   ]
  },
  {
   "cell_type": "code",
   "execution_count": 5,
   "metadata": {
    "colab": {
     "base_uri": "https://localhost:8080/",
     "height": 601,
     "referenced_widgets": [
      "c909d964d2174ca1a95af01a42d7cbbe",
      "1738e37e0cdf482fbbbd81ad7f664bdb",
      "1759673be19841ed9fd59c6ce4979e9a",
      "b681ecc2e15c436c9b374f017a67b987",
      "af74ca9ee65b48b6a05cb7342291ea18",
      "88cb5a53235c4916af13d0ab51f5edd4",
      "4fdc6edb57f84700837183c8b4c89cdf",
      "dece19ad60db4b24a8030e6541d6a3c7",
      "fc0dc8edc2784e918592ed728fc3d4f1",
      "0e864c94fea1434f91fd0f6a5ad8e90e",
      "fdcd77da68424933bf6d9024340d13e7",
      "40cf474a0cc94af3870b0d7c2dd95604",
      "75e4164c48964382aa6c61c088eb6d69",
      "f006cae8449a4b75b38042b2d9108f23",
      "cb0e7292a5ff4891b8441c9c81301c68",
      "7c62e59be7fe4883aab3bc42c79f7e4e",
      "6e395e560d2b4a6796793c62dc88137a",
      "17875fbda9794616bb1065f2964f8edd",
      "19fe9ae8fc234131ad257649fdc5b589",
      "e73da2cba3b04aaf9f58fc490d0b29db",
      "6a405f9f47f445eea12484b65c8e2029",
      "ccd18f8270df41d79fac1a8ca79fd4fa",
      "a90cc6128ad147048f89e616feede573",
      "6c8fce909054477c854faabec204a34b",
      "035e6d4c10e9429fba8bad538b531511",
      "99588f0801f24cd9b506d978db165fd6",
      "9968f5d89ee84759b377d9d987f86868",
      "f69777fa8eef430ea45796ff64108288",
      "5db80e108f6541d1b75f9f85adf276bd",
      "ba9706e5016b4dd5ad9dfab564908566",
      "79751967a9d54984a16e406b5b9735eb",
      "fb704cbdcdab49c78df77308e11ef7a8",
      "8c84dcd434844a7795758f01fefda098",
      "9fa1599ec35245e0baf951923e677d79",
      "a9152d11a4e447dda2c3c5daa1c370bb",
      "5437f134860742a5a0f9b18f3800d5cf",
      "b050fa27e1dc4354ac56fcddf648308b",
      "76efb8768119414aa7df0db0402bfa5f",
      "74def61d23944cfbae3a0891fd510a3c",
      "1f1e27a6fc964ab49e1418c0c952fcae",
      "cdab55860f4f46b09ea0c804dc4ed408",
      "7395fd70bb544d0caeba6be8ae2cd53b",
      "3d1cdd8516ed44c89ae04fde53514670",
      "47484e4708564bebb8489adb15c5ffce",
      "b82e514ca0ad40c1966e742803cc6a09",
      "8381d3f36e3149e19f2549b8fd8f1364",
      "bab409f737764bd89f2178bf78610f33",
      "46c49da8ec7145e3b6f2881fe61f36f8",
      "e1bece840eb94611b71a8e37f63a1c2d",
      "6718d3d6f59c4a989b9315e79c3d0f56",
      "1682057cea0a40939333b09675840792",
      "a7f674725daa4b8d8985cb49db475142",
      "1eb2c85bc13c47fcb3bc53a04a299cd2",
      "638f21cb01e445648c065cb5dafca873",
      "bf87ac3da13e48b9829b10efac55f763",
      "a11d4694cd6642bf90343646a45d6cf9",
      "91be48ec50d64ba99c1dcb7f51a2f0ed",
      "5d52f073d7a94500bd274dcc386f9fc8",
      "fc204328fa1b47328cd49ca4fa6841c9",
      "4d2e36f23f4e4ffc8bccc5435b52163b",
      "475f8ab1fad24a56a8331e21910ffd26",
      "648442e7b6b74cdea5e6de5c09840630",
      "4b3fdbba8f944c718a2e84b5e8698629",
      "fd14903c86314e9ca5ccab5025630b57",
      "d77920be72b84e48b5de29362de68d12",
      "ba61cde8f3ff44d1b629d43c3e524bb3",
      "5f5cb76dc16240a388a306c1ff0aef61",
      "eb3a05333fef4b5a8344fc121905c648",
      "c586070e8a3f4bd298b716265a50d47e",
      "4405f9153cc846cca30028d94a01314f",
      "23fd7aeef7e24366b31561b2d9c39c28",
      "b41b5afe3bed4d5c9003990319e6ac40",
      "76cfbecf5afa4861a37762e1f5b9d857",
      "596eb58bda2b494a8b64bc0851a51e73",
      "3ef9d6c862ff432f939e532244596a18",
      "69ab5988a5094b9987b486f42b30241a",
      "574dd8237a60443f9ea1e04c51063206"
     ]
    },
    "id": "9fzt3DbUhDji",
    "outputId": "1a46c6c7-df66-4ff6-d52b-54033c9699fe"
   },
   "outputs": [
    {
     "name": "stderr",
     "output_type": "stream",
     "text": [
      "/usr/local/lib/python3.11/dist-packages/huggingface_hub/utils/_auth.py:94: UserWarning: \n",
      "The secret `HF_TOKEN` does not exist in your Colab secrets.\n",
      "To authenticate with the Hugging Face Hub, create a token in your settings tab (https://huggingface.co/settings/tokens), set it as secret in your Google Colab and restart your session.\n",
      "You will be able to reuse this secret in all of your notebooks.\n",
      "Please note that authentication is recommended but still optional to access public models or datasets.\n",
      "  warnings.warn(\n"
     ]
    },
    {
     "data": {
      "application/vnd.jupyter.widget-view+json": {
       "model_id": "c909d964d2174ca1a95af01a42d7cbbe",
       "version_major": 2,
       "version_minor": 0
      },
      "text/plain": [
       "README.md:   0%|          | 0.00/1.45k [00:00<?, ?B/s]"
      ]
     },
     "metadata": {},
     "output_type": "display_data"
    },
    {
     "data": {
      "application/vnd.jupyter.widget-view+json": {
       "model_id": "40cf474a0cc94af3870b0d7c2dd95604",
       "version_major": 2,
       "version_minor": 0
      },
      "text/plain": [
       "train-00000-of-00001.parquet:   0%|          | 0.00/98.0k [00:00<?, ?B/s]"
      ]
     },
     "metadata": {},
     "output_type": "display_data"
    },
    {
     "data": {
      "application/vnd.jupyter.widget-view+json": {
       "model_id": "a90cc6128ad147048f89e616feede573",
       "version_major": 2,
       "version_minor": 0
      },
      "text/plain": [
       "validation-00000-of-00001.parquet:   0%|          | 0.00/21.4k [00:00<?, ?B/s]"
      ]
     },
     "metadata": {},
     "output_type": "display_data"
    },
    {
     "data": {
      "application/vnd.jupyter.widget-view+json": {
       "model_id": "9fa1599ec35245e0baf951923e677d79",
       "version_major": 2,
       "version_minor": 0
      },
      "text/plain": [
       "test-00000-of-00001.parquet:   0%|          | 0.00/24.5k [00:00<?, ?B/s]"
      ]
     },
     "metadata": {},
     "output_type": "display_data"
    },
    {
     "data": {
      "application/vnd.jupyter.widget-view+json": {
       "model_id": "b82e514ca0ad40c1966e742803cc6a09",
       "version_major": 2,
       "version_minor": 0
      },
      "text/plain": [
       "Generating train split:   0%|          | 0/2100 [00:00<?, ? examples/s]"
      ]
     },
     "metadata": {},
     "output_type": "display_data"
    },
    {
     "data": {
      "application/vnd.jupyter.widget-view+json": {
       "model_id": "a11d4694cd6642bf90343646a45d6cf9",
       "version_major": 2,
       "version_minor": 0
      },
      "text/plain": [
       "Generating validation split:   0%|          | 0/450 [00:00<?, ? examples/s]"
      ]
     },
     "metadata": {},
     "output_type": "display_data"
    },
    {
     "data": {
      "application/vnd.jupyter.widget-view+json": {
       "model_id": "5f5cb76dc16240a388a306c1ff0aef61",
       "version_major": 2,
       "version_minor": 0
      },
      "text/plain": [
       "Generating test split:   0%|          | 0/450 [00:00<?, ? examples/s]"
      ]
     },
     "metadata": {},
     "output_type": "display_data"
    },
    {
     "data": {
      "text/plain": [
       "DatasetDict({\n",
       "    train: Dataset({\n",
       "        features: ['text', 'labels'],\n",
       "        num_rows: 2100\n",
       "    })\n",
       "    validation: Dataset({\n",
       "        features: ['text', 'labels'],\n",
       "        num_rows: 450\n",
       "    })\n",
       "    test: Dataset({\n",
       "        features: ['text', 'labels'],\n",
       "        num_rows: 450\n",
       "    })\n",
       "})"
      ]
     },
     "execution_count": 5,
     "metadata": {},
     "output_type": "execute_result"
    }
   ],
   "source": [
    "dataset_dict = load_dataset(\"shawhin/phishing-site-classification\")\n",
    "dataset_dict"
   ]
  },
  {
   "cell_type": "code",
   "execution_count": 13,
   "metadata": {
    "colab": {
     "base_uri": "https://localhost:8080/",
     "height": 231,
     "referenced_widgets": [
      "b8de315e5b0a401ea8916ef02fef13f6",
      "d57b0860db4441c1af2f354338118334",
      "fa2c092fd9744dbcb56ac3eb85eeb063",
      "08377ed88b404e4aa9e7937ad5c95a14",
      "bcadf083dd5e4e38bfee4550a0c6fbcc",
      "2a6ccc7e5bb6426499a3290779f1fcb9",
      "e889c5e707ee440f94a5214642f8f816",
      "13ceabf820244211ab2292af813cc4b9",
      "3b42302cae3c4eeeb079a87bf33194b9",
      "0e95faac6ff64607b38785e26b0e398a",
      "b3b6f2c284e2409a9fddef6000e10d42",
      "487ca77c47ad4e23ab208ba44a79badd",
      "8d366baeae2840b2ae4a28a2eeffdbc0",
      "976162dc35404901afc1ec2d5e09aca4",
      "9fdfe2d6db624a47b8d49b75eeba523d",
      "d0b2bc87040746bbbf45d7da3d5184f2",
      "65e5bd1493224f03a5ea21686a41185f",
      "e05f542edd0647ddacccfc60b30c89f5",
      "b3f397d4fb89418ca723babfe3946971",
      "aa2548a9d9aa4c6db08da407b1348d72",
      "92b902fed5a54dec93e780335c6b81e9",
      "5e6539cfa781483697276b2c99937b7a",
      "3258957c1a95486cad486b6442032e06",
      "cb205098d775486da275dac5e84ffbab",
      "73efba6851984bda94d10b8c5e35d8d1",
      "af9f6ea3ab384c7e8b1afb512d273c40",
      "ab317057bbfb4f7e9a3868da17b51b1b",
      "511494b86cb64f08af33764fbb75147a",
      "0f4869bec03e44c6802257e283026071",
      "fc3c5872c8884f8f8782a2358d03e017",
      "a199588cdec141c99dfc5006c1e2491c",
      "b50133415ff14252be3e010116e85237",
      "21b8c3b2ada446329d59800986ea61b1",
      "25338847de0f4d5f94b112fd7d4f51d9",
      "6043b2317aa642c498daa98e68834dcf",
      "6fd95a7779ad485883eb6565302f71b3",
      "bfe199461dc746869100c033dc3f214d",
      "0764a67c2eb44eb3976426dac5a2e7a2",
      "cff81e5c34024e2bbfadc99b02ee73f4",
      "940e6f5d5b7b468893ad2f754ec0e3b8",
      "ce9de27f667d4657afa3ea6dda7cb847",
      "7e3309f7239247b588196c9a25aaa8d5",
      "af5c323e76da465f94816db911d3f023",
      "926139f085bf4ca39cafed528b0a25e0",
      "11d00039189445ef854044c192a5b640",
      "d6e640c3c6c34f6f92dc5c2afcefd070",
      "ca8223c1097a44619c3f3ee6bc881161",
      "68c86c14f52d400286e36c0601f10392",
      "89e4387c1e5f4dffb13188f741a10d96",
      "aa8a3ed8e8e74728b4be2d6b0383125e",
      "5ad4b776422c4c6096bf3df4f0023b7e",
      "757805701aa646c1b8452770d99bda4f",
      "6fe5f333b684496496a1492577d2dff5",
      "a72eaab5cb754154bdfe92338fc2aad5",
      "cf502d5f85db494cb5b14fb679a31fca"
     ]
    },
    "id": "f5orVoJFhFTL",
    "outputId": "4f0efd4a-85d2-4dcb-cdcf-7b8452e85cc8"
   },
   "outputs": [
    {
     "data": {
      "application/vnd.jupyter.widget-view+json": {
       "model_id": "b8de315e5b0a401ea8916ef02fef13f6",
       "version_major": 2,
       "version_minor": 0
      },
      "text/plain": [
       "tokenizer_config.json:   0%|          | 0.00/48.0 [00:00<?, ?B/s]"
      ]
     },
     "metadata": {},
     "output_type": "display_data"
    },
    {
     "data": {
      "application/vnd.jupyter.widget-view+json": {
       "model_id": "487ca77c47ad4e23ab208ba44a79badd",
       "version_major": 2,
       "version_minor": 0
      },
      "text/plain": [
       "config.json:   0%|          | 0.00/483 [00:00<?, ?B/s]"
      ]
     },
     "metadata": {},
     "output_type": "display_data"
    },
    {
     "data": {
      "application/vnd.jupyter.widget-view+json": {
       "model_id": "3258957c1a95486cad486b6442032e06",
       "version_major": 2,
       "version_minor": 0
      },
      "text/plain": [
       "vocab.txt:   0%|          | 0.00/232k [00:00<?, ?B/s]"
      ]
     },
     "metadata": {},
     "output_type": "display_data"
    },
    {
     "data": {
      "application/vnd.jupyter.widget-view+json": {
       "model_id": "25338847de0f4d5f94b112fd7d4f51d9",
       "version_major": 2,
       "version_minor": 0
      },
      "text/plain": [
       "tokenizer.json:   0%|          | 0.00/466k [00:00<?, ?B/s]"
      ]
     },
     "metadata": {},
     "output_type": "display_data"
    },
    {
     "data": {
      "application/vnd.jupyter.widget-view+json": {
       "model_id": "11d00039189445ef854044c192a5b640",
       "version_major": 2,
       "version_minor": 0
      },
      "text/plain": [
       "model.safetensors:   0%|          | 0.00/268M [00:00<?, ?B/s]"
      ]
     },
     "metadata": {},
     "output_type": "display_data"
    },
    {
     "name": "stderr",
     "output_type": "stream",
     "text": [
      "Some weights of DistilBertForSequenceClassification were not initialized from the model checkpoint at distilbert-base-uncased and are newly initialized: ['classifier.bias', 'classifier.weight', 'pre_classifier.bias', 'pre_classifier.weight']\n",
      "You should probably TRAIN this model on a down-stream task to be able to use it for predictions and inference.\n"
     ]
    }
   ],
   "source": [
    "model_path = \"distilbert-base-uncased\"\n",
    "tokenizer = AutoTokenizer.from_pretrained(model_path)\n",
    "id2label = {0: \"Safe\", 1: \"Not Safe\"}\n",
    "label2id = {\"Safe\": 0, \"Not Safe\": 1}\n",
    "model = AutoModelForSequenceClassification.from_pretrained(model_path,\n",
    "                                                           num_labels=2,\n",
    "                                                           id2label=id2label,\n",
    "                                                           label2id=label2id,)"
   ]
  },
  {
   "cell_type": "code",
   "execution_count": 14,
   "metadata": {
    "id": "FT3QMoUQiTdz"
   },
   "outputs": [],
   "source": [
    "for name, param in model.base_model.named_parameters():\n",
    "  if \"pooler\" in name:\n",
    "        param.requires_grad = True\n",
    "  else:\n",
    "        param.requires_grad = False"
   ]
  },
  {
   "cell_type": "code",
   "execution_count": 15,
   "metadata": {
    "id": "bnVYMmyKimJH"
   },
   "outputs": [],
   "source": [
    "data_collator = DataCollatorWithPadding(tokenizer=tokenizer)"
   ]
  },
  {
   "cell_type": "code",
   "execution_count": 16,
   "metadata": {
    "colab": {
     "base_uri": "https://localhost:8080/",
     "height": 113,
     "referenced_widgets": [
      "9118538a8b654d4491a2e783d23a81ba",
      "fe4ccb41e16748559455c45ee63709b7",
      "45083721f7d14594bd379b146d26db53",
      "4562110d6a9f4874bab239d550950238",
      "675ea657248044f49025e82867c1b021",
      "00ff82aaa0f34032b0ad749bfe16e491",
      "93f45df506b647df8db0edbcfb88b580",
      "6756e08c95544d1b9a86da5ffbd6f7e3",
      "fce7b002a1a44169a9033f818b2ce22d",
      "5e1494d30715403a8121b0da33726621",
      "09da07c230874791917b5631f7afd825",
      "9ea061807ffd4a429d6d7d882bb4dc55",
      "53b65be35b5c4efb8f3bdc7198b2a0a7",
      "e5dede11a23e4f2d8f0c5ca1e650eee3",
      "ab14829d5afd44dfbf2c4d41bfadea9b",
      "d329b6044e2e40f3906ec0bf2f77b5f1",
      "66e39506454f43668aa9b2a7197181d8",
      "53a8fa7d671f4da79243dabce204f79a",
      "53ba4150102640039afd1dc6377d9fe6",
      "13d7da9c436840e78c8c67faa17ee87d",
      "0b0aa2b7b97947aea10042545c65b686",
      "aac8281ddc46483a99f3b289b977b462",
      "39e4a1f8d2564401bcbcf90b0804e76f",
      "7a1f37164cfc4816a65814aa9c6b897f",
      "dd597c3b67dd4534bd93dc59307447db",
      "b4b737f390aa4941b7ca6bc280029858",
      "80e4218cec4d4345844eee815214aec1",
      "9bfc89540278459989afd5a631ae3be8",
      "c1bc7f5fb8b448738118912997e04ac8",
      "f7706c664e1b48ed8e9986d37510576f",
      "85cbc3e6ed4248efa5b1a521e88f6f40",
      "69c6f9c93d2344cd95f8cf25bd301fac",
      "4bd79125cc0e4f4681b57922633e760f"
     ]
    },
    "id": "4pVlWaSkh8lT",
    "outputId": "31587aee-19ff-495b-c1a1-442cba609afd"
   },
   "outputs": [
    {
     "data": {
      "application/vnd.jupyter.widget-view+json": {
       "model_id": "9118538a8b654d4491a2e783d23a81ba",
       "version_major": 2,
       "version_minor": 0
      },
      "text/plain": [
       "Map:   0%|          | 0/2100 [00:00<?, ? examples/s]"
      ]
     },
     "metadata": {},
     "output_type": "display_data"
    },
    {
     "data": {
      "application/vnd.jupyter.widget-view+json": {
       "model_id": "9ea061807ffd4a429d6d7d882bb4dc55",
       "version_major": 2,
       "version_minor": 0
      },
      "text/plain": [
       "Map:   0%|          | 0/450 [00:00<?, ? examples/s]"
      ]
     },
     "metadata": {},
     "output_type": "display_data"
    },
    {
     "data": {
      "application/vnd.jupyter.widget-view+json": {
       "model_id": "39e4a1f8d2564401bcbcf90b0804e76f",
       "version_major": 2,
       "version_minor": 0
      },
      "text/plain": [
       "Map:   0%|          | 0/450 [00:00<?, ? examples/s]"
      ]
     },
     "metadata": {},
     "output_type": "display_data"
    }
   ],
   "source": [
    "def preprocess_function(examples):\n",
    "    return tokenizer(examples[\"text\"], padding='max_length', truncation=True)\n",
    "tokenized_dataset = dataset_dict.map(preprocess_function, batched=True)\n",
    "tokenized_dataset.set_format(type='torch', columns=['input_ids', 'attention_mask', 'labels'])"
   ]
  },
  {
   "cell_type": "code",
   "execution_count": 17,
   "metadata": {
    "colab": {
     "base_uri": "https://localhost:8080/",
     "height": 81,
     "referenced_widgets": [
      "d0ecbf4c19e241e9be394db8ee3e2df2",
      "45c6be48dc1a457a8564c346efc663e6",
      "7bd5ee9baf414dc3814b54a5a7078d7b",
      "401c32e8bd56498abb28e510abfbeb48",
      "a87921bf771d4824beb5089fc02df638",
      "04450f4cc8a448659ece7d5f55d7f867",
      "9dba367a8b354834a8eb1e54d287646c",
      "7b64d96ae33246bc96c2fc6d47d773d6",
      "9fc83fe4ae8a4c44a1aefdec0a147e47",
      "09b3dc8b1d294d2fb27a7243a568bc6d",
      "4be4b123afdb4f5097a01bc27e5314af",
      "cc67b82921424851b4f06cea36ced9e4",
      "5e2e7e6f9dcf47dc8ce98d53fe72caf8",
      "f64cb3c35f4c4a70a52934b9a886503c",
      "7d09f62c175c4ce2ba74171c88ef87ce",
      "ae9840bb7ace4fbaa3482a8c2ead2301",
      "ece18c58840d4f3586022c0e26aca8e2",
      "e6e8b6e763524e3b919cae3b2ffdfff0",
      "74c8bd6355304a76afc9e274753ebafb",
      "48ea06d063a6495682b03899146195c0",
      "40de75e56e0b4bc7aed5a8d94b5457bd",
      "d8a7387bba9d46f697ff06e05b0353d1"
     ]
    },
    "id": "i9NHhJOLiow1",
    "outputId": "839374a9-0d6a-4896-f51f-27cac70d4ba0"
   },
   "outputs": [
    {
     "data": {
      "application/vnd.jupyter.widget-view+json": {
       "model_id": "d0ecbf4c19e241e9be394db8ee3e2df2",
       "version_major": 2,
       "version_minor": 0
      },
      "text/plain": [
       "Downloading builder script:   0%|          | 0.00/4.20k [00:00<?, ?B/s]"
      ]
     },
     "metadata": {},
     "output_type": "display_data"
    },
    {
     "data": {
      "application/vnd.jupyter.widget-view+json": {
       "model_id": "cc67b82921424851b4f06cea36ced9e4",
       "version_major": 2,
       "version_minor": 0
      },
      "text/plain": [
       "Downloading builder script:   0%|          | 0.00/9.54k [00:00<?, ?B/s]"
      ]
     },
     "metadata": {},
     "output_type": "display_data"
    }
   ],
   "source": [
    "accuracy = evaluate.load(\"accuracy\")\n",
    "auc_score = evaluate.load(\"roc_auc\")\n",
    "\n",
    "def compute_metrics(eval_pred):\n",
    "    predictions, labels = eval_pred\n",
    "    probabilities = np.exp(predictions) / np.exp(predictions).sum(-1, keepdims=True)\n",
    "    positive_class_probs = probabilities[:, 1]\n",
    "    auc = np.round(auc_score.compute(prediction_scores=positive_class_probs, references=labels)['roc_auc'],3)\n",
    "\n",
    "    predicted_classes = np.argmax(predictions, axis=1)\n",
    "    acc = np.round(accuracy.compute(predictions=predicted_classes, references=labels)['accuracy'],3)\n",
    "\n",
    "    return {\"Accuracy\": acc, \"AUC\": auc}"
   ]
  },
  {
   "cell_type": "code",
   "execution_count": 18,
   "metadata": {
    "id": "-M4N3y4AiBEq"
   },
   "outputs": [],
   "source": [
    "lr = 2e-4\n",
    "batch_size = 32\n",
    "num_epochs = 10\n",
    "\n",
    "training_args = TrainingArguments(\n",
    "    output_dir=\"bert-phishing-classifier_teacher\",\n",
    "    learning_rate=lr,\n",
    "    per_device_train_batch_size=batch_size,\n",
    "    per_device_eval_batch_size=batch_size,\n",
    "    num_train_epochs=num_epochs,\n",
    "    logging_strategy=\"epoch\",\n",
    "    eval_strategy=\"epoch\",\n",
    "    save_strategy=\"epoch\",\n",
    "    load_best_model_at_end=True,\n",
    ")"
   ]
  },
  {
   "cell_type": "code",
   "execution_count": 21,
   "metadata": {
    "colab": {
     "base_uri": "https://localhost:8080/"
    },
    "id": "4NQVX7JphMBZ",
    "outputId": "b1c03ebd-1ea7-4f31-a975-f1b6df8a0f6f"
   },
   "outputs": [
    {
     "name": "stderr",
     "output_type": "stream",
     "text": [
      "<ipython-input-21-ea83d2950a86>:1: FutureWarning: `tokenizer` is deprecated and will be removed in version 5.0.0 for `Trainer.__init__`. Use `processing_class` instead.\n",
      "  trainer = Trainer(\n"
     ]
    }
   ],
   "source": [
    "trainer = Trainer(\n",
    "    model=model,\n",
    "    args=training_args,\n",
    "    train_dataset=tokenized_dataset[\"train\"],\n",
    "    eval_dataset=tokenized_dataset[\"validation\"],\n",
    "    tokenizer=tokenizer,\n",
    "    data_collator=data_collator,\n",
    "    compute_metrics=compute_metrics,\n",
    ")"
   ]
  },
  {
   "cell_type": "code",
   "execution_count": 22,
   "metadata": {
    "colab": {
     "base_uri": "https://localhost:8080/",
     "height": 419
    },
    "id": "9cXvxaMdhWbi",
    "outputId": "56900df3-ca41-4509-ce02-cdf7408990ae"
   },
   "outputs": [
    {
     "data": {
      "text/html": [
       "\n",
       "    <div>\n",
       "      \n",
       "      <progress value='660' max='660' style='width:300px; height:20px; vertical-align: middle;'></progress>\n",
       "      [660/660 07:23, Epoch 10/10]\n",
       "    </div>\n",
       "    <table border=\"1\" class=\"dataframe\">\n",
       "  <thead>\n",
       " <tr style=\"text-align: left;\">\n",
       "      <th>Epoch</th>\n",
       "      <th>Training Loss</th>\n",
       "      <th>Validation Loss</th>\n",
       "      <th>Accuracy</th>\n",
       "      <th>Auc</th>\n",
       "    </tr>\n",
       "  </thead>\n",
       "  <tbody>\n",
       "    <tr>\n",
       "      <td>1</td>\n",
       "      <td>0.394200</td>\n",
       "      <td>0.378818</td>\n",
       "      <td>0.844000</td>\n",
       "      <td>0.915000</td>\n",
       "    </tr>\n",
       "    <tr>\n",
       "      <td>2</td>\n",
       "      <td>0.359000</td>\n",
       "      <td>0.350077</td>\n",
       "      <td>0.860000</td>\n",
       "      <td>0.926000</td>\n",
       "    </tr>\n",
       "    <tr>\n",
       "      <td>3</td>\n",
       "      <td>0.333800</td>\n",
       "      <td>0.348449</td>\n",
       "      <td>0.862000</td>\n",
       "      <td>0.932000</td>\n",
       "    </tr>\n",
       "    <tr>\n",
       "      <td>4</td>\n",
       "      <td>0.318300</td>\n",
       "      <td>0.337592</td>\n",
       "      <td>0.871000</td>\n",
       "      <td>0.934000</td>\n",
       "    </tr>\n",
       "    <tr>\n",
       "      <td>5</td>\n",
       "      <td>0.298000</td>\n",
       "      <td>0.325172</td>\n",
       "      <td>0.880000</td>\n",
       "      <td>0.936000</td>\n",
       "    </tr>\n",
       "    <tr>\n",
       "      <td>6</td>\n",
       "      <td>0.298000</td>\n",
       "      <td>0.321483</td>\n",
       "      <td>0.876000</td>\n",
       "      <td>0.937000</td>\n",
       "    </tr>\n",
       "    <tr>\n",
       "      <td>7</td>\n",
       "      <td>0.297000</td>\n",
       "      <td>0.323359</td>\n",
       "      <td>0.876000</td>\n",
       "      <td>0.937000</td>\n",
       "    </tr>\n",
       "    <tr>\n",
       "      <td>8</td>\n",
       "      <td>0.291800</td>\n",
       "      <td>0.318797</td>\n",
       "      <td>0.882000</td>\n",
       "      <td>0.938000</td>\n",
       "    </tr>\n",
       "    <tr>\n",
       "      <td>9</td>\n",
       "      <td>0.286200</td>\n",
       "      <td>0.319368</td>\n",
       "      <td>0.871000</td>\n",
       "      <td>0.938000</td>\n",
       "    </tr>\n",
       "    <tr>\n",
       "      <td>10</td>\n",
       "      <td>0.282300</td>\n",
       "      <td>0.317861</td>\n",
       "      <td>0.878000</td>\n",
       "      <td>0.938000</td>\n",
       "    </tr>\n",
       "  </tbody>\n",
       "</table><p>"
      ],
      "text/plain": [
       "<IPython.core.display.HTML object>"
      ]
     },
     "metadata": {},
     "output_type": "display_data"
    },
    {
     "data": {
      "text/plain": [
       "TrainOutput(global_step=660, training_loss=0.3158749146894975, metrics={'train_runtime': 444.5505, 'train_samples_per_second': 47.239, 'train_steps_per_second': 1.485, 'total_flos': 2781815371776000.0, 'train_loss': 0.3158749146894975, 'epoch': 10.0})"
      ]
     },
     "execution_count": 22,
     "metadata": {},
     "output_type": "execute_result"
    }
   ],
   "source": [
    "trainer.train()"
   ]
  },
  {
   "cell_type": "code",
   "execution_count": 23,
   "metadata": {
    "colab": {
     "base_uri": "https://localhost:8080/",
     "height": 34
    },
    "id": "oB1coi7Ji05J",
    "outputId": "5e795891-08c4-4083-db65-c78d9af3d65c"
   },
   "outputs": [
    {
     "data": {
      "text/html": [],
      "text/plain": [
       "<IPython.core.display.HTML object>"
      ]
     },
     "metadata": {},
     "output_type": "display_data"
    },
    {
     "name": "stdout",
     "output_type": "stream",
     "text": [
      "{'Accuracy': np.float64(0.871), 'AUC': np.float64(0.947)}\n"
     ]
    }
   ],
   "source": [
    "predictions = trainer.predict(tokenized_dataset[\"test\"])\n",
    "logits = predictions.predictions\n",
    "labels = predictions.label_ids\n",
    "\n",
    "metrics = compute_metrics((logits, labels))\n",
    "print(metrics)"
   ]
  },
  {
   "cell_type": "code",
   "execution_count": 24,
   "metadata": {
    "colab": {
     "base_uri": "https://localhost:8080/",
     "height": 17,
     "referenced_widgets": [
      "cd88cfa468d44e08802756dfbdfc691e",
      "fa0073f3c6e344449c7fbd3175baad9e",
      "4cf6b9f2f4af459ab744f74c4e9d1802",
      "791668a9999949d0891deaa1b3482e48",
      "0f6d505689d94645acb3e7f3a3ac3433",
      "059d8181a58e438f89ebb3e01e0854ad",
      "b0bdd006975940ad99c263781ce01a67",
      "141b5a2855884debbe35420250bebde9",
      "6c4d2998db8c40f692af4b5eeb32d9c5",
      "bbcf35c4472444a2b59716e8bcb5ee4b",
      "4b12daf4c3714304a3361ad333061b96",
      "734bec27b4ce453c8e34bd8a49e5250e",
      "48f546839b7c4091889b9c0942b0bba6",
      "c673d124e0934436a611fa6e449d3b96",
      "d877b6bc6c16445ab1c264afd4dd4b90",
      "d130322846bb42bd96754cb148487cdd",
      "698e5f675962418b93a24286761c0432",
      "7100599f547c411f8d16348368e9cbc6",
      "95d358d33851493e95a1d09c3f99e536",
      "568dd6efcb0c4456aeaebf3b610acceb"
     ]
    },
    "id": "MdF2FMq3kgFj",
    "outputId": "1cfe2ebf-7d99-4a8c-b9b2-16f5ca739bb4"
   },
   "outputs": [
    {
     "data": {
      "application/vnd.jupyter.widget-view+json": {
       "model_id": "cd88cfa468d44e08802756dfbdfc691e",
       "version_major": 2,
       "version_minor": 0
      },
      "text/plain": [
       "VBox(children=(HTML(value='<center> <img\\nsrc=https://huggingface.co/front/assets/huggingface_logo-noborder.sv…"
      ]
     },
     "metadata": {},
     "output_type": "display_data"
    }
   ],
   "source": [
    "from huggingface_hub import notebook_login\n",
    "notebook_login()"
   ]
  },
  {
   "cell_type": "code",
   "execution_count": 25,
   "metadata": {
    "colab": {
     "base_uri": "https://localhost:8080/",
     "height": 265,
     "referenced_widgets": [
      "ebcdc468d49b4a42bdde4569392f8b6c",
      "c63345ba0f30463bb248a567c2e5e89d",
      "bd4ef37c824c4a438834d747c7eb14bc",
      "5b049844d8ca421c97e17ea2858c9c0f",
      "9a4a9e5703b7481c94d6db74a1f061f8",
      "843cbc5df86a4d0dbbe5a95cb6d077d6",
      "ebb4e9a5440748e2b1369fdb8be5a6b4",
      "07c2a28d4eca42fcb34b5afcbc14945e",
      "7815c3cf4df34247af8993d9914d1057",
      "e1bbafe8207f43bd8ceaf1b0f9a37134",
      "036d659cb0cd4be0b00891948e7949d3",
      "163f03f801ac4029a762f294ec9170db",
      "cf321ee48b1a462ab88d80919167dba5",
      "f37f1c0252d64030b0f2c2d0d561f545",
      "bf0e4c457ad8450d80b98ade7af5f435",
      "5e4fcf8947ea41b4aa3c9f0c24fd917a",
      "89d3a067a6f244dd9f944418c5207bf1",
      "64713cb63a4b411b901bf2522306beac",
      "db7a5a1e76b2479ca95a48918e351cee",
      "2fcb7b12a88a4a179cb52fe086048ef6",
      "b85b288ff0b94359b7ca6cf68c2c7c57",
      "356b372f08c542f3a0e437b7d1561dd7",
      "911b58c0d13c4bbf9c488b38998c65a2",
      "4a2797099a24441aa63d0d28de0cd882",
      "dfafdac9c31449fa84ae2f2ee491a3d3",
      "e7f99210b9834320b6a5dcdaa92c41cd",
      "0df919e0d55b4d39953427d21778bd8d",
      "d1709fa69d5a4df1bd5b97db385f4f90",
      "5a24d8e8a6a9479192f515bab1db41e3",
      "04563af219ff41fcbd0971bc34ca9047",
      "2030d5c125934b09b8ec9cc9f35d78ac",
      "b926d80cb1d74bf787c99063266bc663",
      "d452bd9377404b1b8fc198a5f0ae581b",
      "2deef7e1acc74d75bb72e3ce078745d6",
      "2653ff9798ae42d98081fef9c7e86da9",
      "d38cd46d0c134296ab541e2e48d52b68",
      "ded68f1812d54dd18b47761bebda4f18",
      "ae413e09a61148b295ed35d3e896b2a6",
      "9ffe4dbe71b14eb7bc8d3ea2acd8397d",
      "64f8a838b99e4b8995b96360b056bb80",
      "56234c2d3c2f43dfb5c30606a6fbecc7",
      "663cd2f97aab438e9e54e26726b12b08",
      "4f614f566be34603ac42d0da3f6af0f3",
      "9696fdbc26754e8d9082748b5bee4662",
      "834367b46a4642a0b2c5c0f721e28d48",
      "5205df24876f4890af0fa280e6c87423",
      "441048fdb69d4ac2b7352e4765978ce3",
      "5bdbb0b97c7d484b92da9700e357c8ea",
      "ccbbf79df43f45feadb928ed0667e021",
      "dda54c3a7e984240b59c026af2601ff3",
      "b9dd9ecb447243f883a4358957afaaae",
      "c1ae47257de44ae481c0c1330d566511",
      "61b9e5a378f843019efa2f9a6f9be84a",
      "0344c40b089945158afaa5e1a07d86fd",
      "72cbdbca95cd4867988e0d3319eba3bd"
     ]
    },
    "id": "Ld5i0NLPk00J",
    "outputId": "4e71ab70-0906-45a4-d238-a2f6a4579048"
   },
   "outputs": [
    {
     "data": {
      "application/vnd.jupyter.widget-view+json": {
       "model_id": "ebcdc468d49b4a42bdde4569392f8b6c",
       "version_major": 2,
       "version_minor": 0
      },
      "text/plain": [
       "model.safetensors:   0%|          | 0.00/268M [00:00<?, ?B/s]"
      ]
     },
     "metadata": {},
     "output_type": "display_data"
    },
    {
     "data": {
      "application/vnd.jupyter.widget-view+json": {
       "model_id": "163f03f801ac4029a762f294ec9170db",
       "version_major": 2,
       "version_minor": 0
      },
      "text/plain": [
       "events.out.tfevents.1742373344.2097af05189c.2406.0:   0%|          | 0.00/5.13k [00:00<?, ?B/s]"
      ]
     },
     "metadata": {},
     "output_type": "display_data"
    },
    {
     "data": {
      "application/vnd.jupyter.widget-view+json": {
       "model_id": "911b58c0d13c4bbf9c488b38998c65a2",
       "version_major": 2,
       "version_minor": 0
      },
      "text/plain": [
       "training_args.bin:   0%|          | 0.00/5.37k [00:00<?, ?B/s]"
      ]
     },
     "metadata": {},
     "output_type": "display_data"
    },
    {
     "data": {
      "application/vnd.jupyter.widget-view+json": {
       "model_id": "2deef7e1acc74d75bb72e3ce078745d6",
       "version_major": 2,
       "version_minor": 0
      },
      "text/plain": [
       "Upload 4 LFS files:   0%|          | 0/4 [00:00<?, ?it/s]"
      ]
     },
     "metadata": {},
     "output_type": "display_data"
    },
    {
     "data": {
      "application/vnd.jupyter.widget-view+json": {
       "model_id": "834367b46a4642a0b2c5c0f721e28d48",
       "version_major": 2,
       "version_minor": 0
      },
      "text/plain": [
       "events.out.tfevents.1742373391.2097af05189c.2406.1:   0%|          | 0.00/11.3k [00:00<?, ?B/s]"
      ]
     },
     "metadata": {},
     "output_type": "display_data"
    },
    {
     "data": {
      "application/vnd.google.colaboratory.intrinsic+json": {
       "type": "string"
      },
      "text/plain": [
       "CommitInfo(commit_url='https://huggingface.co/majorSeaweed/distilled_Bert_Uncased_FishingURL_Student_Finetuned/commit/f38ac0c2328243a51208bf145f3f0721b43d4d78', commit_message='Upload tokenizer', commit_description='', oid='f38ac0c2328243a51208bf145f3f0721b43d4d78', pr_url=None, repo_url=RepoUrl('https://huggingface.co/majorSeaweed/distilled_Bert_Uncased_FishingURL_Student_Finetuned', endpoint='https://huggingface.co', repo_type='model', repo_id='majorSeaweed/distilled_Bert_Uncased_FishingURL_Student_Finetuned'), pr_revision=None, pr_num=None)"
      ]
     },
     "execution_count": 25,
     "metadata": {},
     "output_type": "execute_result"
    }
   ],
   "source": [
    "trainer.push_to_hub('majorSeaweed/distilled_Bert_Uncased_FishingURL_Student_Finetuned')\n",
    "tokenizer.push_to_hub('majorSeaweed/distilled_Bert_Uncased_FishingURL_Student_Finetuned')"
   ]
  },
  {
   "cell_type": "code",
   "execution_count": null,
   "metadata": {
    "id": "XmgIl0snlGES"
   },
   "outputs": [],
   "source": []
  }
 ],
 "metadata": {
  "accelerator": "GPU",
  "colab": {
   "gpuType": "T4",
   "provenance": []
  },
  "kernelspec": {
   "display_name": "Python 3",
   "name": "python3"
  },
  "language_info": {
   "name": "python"
  }
 },
 "nbformat": 4,
 "nbformat_minor": 0
}
