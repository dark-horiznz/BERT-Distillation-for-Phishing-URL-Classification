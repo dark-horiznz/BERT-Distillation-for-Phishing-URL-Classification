{
 "cells": [
  {
   "cell_type": "code",
   "execution_count": 1,
   "metadata": {
    "id": "EOygrhe1g4re"
   },
   "outputs": [],
   "source": [
    "pip -q install datasets transformers evaluate huggingface_hub bitsandbytes"
   ]
  },
  {
   "cell_type": "code",
   "execution_count": null,
   "metadata": {
    "id": "tXyNdeu9g-aW"
   },
   "outputs": [],
   "source": [
    "!pip -q install --upgrade transformers"
   ]
  },
  {
   "cell_type": "code",
   "execution_count": 3,
   "metadata": {
    "id": "4D1mWqgChAn-"
   },
   "outputs": [],
   "source": [
    "from datasets import load_dataset\n",
    "from transformers import AutoTokenizer, AutoModelForSequenceClassification, TrainingArguments, Trainer\n",
    "import evaluate\n",
    "import numpy as np\n",
    "from transformers import DataCollatorWithPadding"
   ]
  },
  {
   "cell_type": "code",
   "execution_count": 4,
   "metadata": {
    "id": "U5pocxnNhCaY"
   },
   "outputs": [],
   "source": [
    "import torch\n",
    "import torch.nn as nn\n",
    "import torch.optim as optim\n",
    "from torch.utils.data import DataLoader\n",
    "from sklearn.metrics import accuracy_score, precision_recall_fscore_support"
   ]
  },
  {
   "cell_type": "code",
   "execution_count": 5,
   "metadata": {
    "colab": {
     "base_uri": "https://localhost:8080/",
     "height": 601,
     "referenced_widgets": [
      "c909d964d2174ca1a95af01a42d7cbbe",
      "1738e37e0cdf482fbbbd81ad7f664bdb",
      "1759673be19841ed9fd59c6ce4979e9a",
      "b681ecc2e15c436c9b374f017a67b987",
      "af74ca9ee65b48b6a05cb7342291ea18",
      "88cb5a53235c4916af13d0ab51f5edd4",
      "4fdc6edb57f84700837183c8b4c89cdf",
      "dece19ad60db4b24a8030e6541d6a3c7",
      "fc0dc8edc2784e918592ed728fc3d4f1",
      "0e864c94fea1434f91fd0f6a5ad8e90e",
      "fdcd77da68424933bf6d9024340d13e7",
      "40cf474a0cc94af3870b0d7c2dd95604",
      "75e4164c48964382aa6c61c088eb6d69",
      "f006cae8449a4b75b38042b2d9108f23",
      "cb0e7292a5ff4891b8441c9c81301c68",
      "7c62e59be7fe4883aab3bc42c79f7e4e",
      "6e395e560d2b4a6796793c62dc88137a",
      "17875fbda9794616bb1065f2964f8edd",
      "19fe9ae8fc234131ad257649fdc5b589",
      "e73da2cba3b04aaf9f58fc490d0b29db",
      "6a405f9f47f445eea12484b65c8e2029",
      "ccd18f8270df41d79fac1a8ca79fd4fa",
      "a90cc6128ad147048f89e616feede573",
      "6c8fce909054477c854faabec204a34b",
      "035e6d4c10e9429fba8bad538b531511",
      "99588f0801f24cd9b506d978db165fd6",
      "9968f5d89ee84759b377d9d987f86868",
      "f69777fa8eef430ea45796ff64108288",
      "5db80e108f6541d1b75f9f85adf276bd",
      "ba9706e5016b4dd5ad9dfab564908566",
      "79751967a9d54984a16e406b5b9735eb",
      "fb704cbdcdab49c78df77308e11ef7a8",
      "8c84dcd434844a7795758f01fefda098",
      "9fa1599ec35245e0baf951923e677d79",
      "a9152d11a4e447dda2c3c5daa1c370bb",
      "5437f134860742a5a0f9b18f3800d5cf",
      "b050fa27e1dc4354ac56fcddf648308b",
      "76efb8768119414aa7df0db0402bfa5f",
      "74def61d23944cfbae3a0891fd510a3c",
      "1f1e27a6fc964ab49e1418c0c952fcae",
      "cdab55860f4f46b09ea0c804dc4ed408",
      "7395fd70bb544d0caeba6be8ae2cd53b",
      "3d1cdd8516ed44c89ae04fde53514670",
      "47484e4708564bebb8489adb15c5ffce",
      "b82e514ca0ad40c1966e742803cc6a09",
      "8381d3f36e3149e19f2549b8fd8f1364",
      "bab409f737764bd89f2178bf78610f33",
      "46c49da8ec7145e3b6f2881fe61f36f8",
      "e1bece840eb94611b71a8e37f63a1c2d",
      "6718d3d6f59c4a989b9315e79c3d0f56",
      "1682057cea0a40939333b09675840792",
      "a7f674725daa4b8d8985cb49db475142",
      "1eb2c85bc13c47fcb3bc53a04a299cd2",
      "638f21cb01e445648c065cb5dafca873",
      "bf87ac3da13e48b9829b10efac55f763",
      "a11d4694cd6642bf90343646a45d6cf9",
      "91be48ec50d64ba99c1dcb7f51a2f0ed",
      "5d52f073d7a94500bd274dcc386f9fc8",
      "fc204328fa1b47328cd49ca4fa6841c9",
      "4d2e36f23f4e4ffc8bccc5435b52163b",
      "475f8ab1fad24a56a8331e21910ffd26",
      "648442e7b6b74cdea5e6de5c09840630",
      "4b3fdbba8f944c718a2e84b5e8698629",
      "fd14903c86314e9ca5ccab5025630b57",
      "d77920be72b84e48b5de29362de68d12",
      "ba61cde8f3ff44d1b629d43c3e524bb3",
      "5f5cb76dc16240a388a306c1ff0aef61",
      "eb3a05333fef4b5a8344fc121905c648",
      "c586070e8a3f4bd298b716265a50d47e",
      "4405f9153cc846cca30028d94a01314f",
      "23fd7aeef7e24366b31561b2d9c39c28",
      "b41b5afe3bed4d5c9003990319e6ac40",
      "76cfbecf5afa4861a37762e1f5b9d857",
      "596eb58bda2b494a8b64bc0851a51e73",
      "3ef9d6c862ff432f939e532244596a18",
      "69ab5988a5094b9987b486f42b30241a",
      "574dd8237a60443f9ea1e04c51063206"
     ]
    },
    "id": "9fzt3DbUhDji",
    "outputId": "1a46c6c7-df66-4ff6-d52b-54033c9699fe"
   },
   "outputs": [
    {
     "name": "stderr",
     "output_type": "stream",
     "text": [
      "/usr/local/lib/python3.11/dist-packages/huggingface_hub/utils/_auth.py:94: UserWarning: \n",
      "The secret `HF_TOKEN` does not exist in your Colab secrets.\n",
      "To authenticate with the Hugging Face Hub, create a token in your settings tab (https://huggingface.co/settings/tokens), set it as secret in your Google Colab and restart your session.\n",
      "You will be able to reuse this secret in all of your notebooks.\n",
      "Please note that authentication is recommended but still optional to access public models or datasets.\n",
      "  warnings.warn(\n"
     ]
    },
    {
     "data": {
      "application/vnd.jupyter.widget-view+json": {
       "model_id": "c909d964d2174ca1a95af01a42d7cbbe",
       "version_major": 2,
       "version_minor": 0
      },
      "text/plain": [
       "README.md:   0%|          | 0.00/1.45k [00:00<?, ?B/s]"
      ]
     },
     "metadata": {},
     "output_type": "display_data"
    },
    {
     "data": {
      "application/vnd.jupyter.widget-view+json": {
       "model_id": "40cf474a0cc94af3870b0d7c2dd95604",
       "version_major": 2,
       "version_minor": 0
      },
      "text/plain": [
       "train-00000-of-00001.parquet:   0%|          | 0.00/98.0k [00:00<?, ?B/s]"
      ]
     },
     "metadata": {},
     "output_type": "display_data"
    },
    {
     "data": {
      "application/vnd.jupyter.widget-view+json": {
       "model_id": "a90cc6128ad147048f89e616feede573",
       "version_major": 2,
       "version_minor": 0
      },
      "text/plain": [
       "validation-00000-of-00001.parquet:   0%|          | 0.00/21.4k [00:00<?, ?B/s]"
      ]
     },
     "metadata": {},
     "output_type": "display_data"
    },
    {
     "data": {
      "application/vnd.jupyter.widget-view+json": {
       "model_id": "9fa1599ec35245e0baf951923e677d79",
       "version_major": 2,
       "version_minor": 0
      },
      "text/plain": [
       "test-00000-of-00001.parquet:   0%|          | 0.00/24.5k [00:00<?, ?B/s]"
      ]
     },
     "metadata": {},
     "output_type": "display_data"
    },
    {
     "data": {
      "application/vnd.jupyter.widget-view+json": {
       "model_id": "b82e514ca0ad40c1966e742803cc6a09",
       "version_major": 2,
       "version_minor": 0
      },
      "text/plain": [
       "Generating train split:   0%|          | 0/2100 [00:00<?, ? examples/s]"
      ]
     },
     "metadata": {},
     "output_type": "display_data"
    },
    {
     "data": {
      "application/vnd.jupyter.widget-view+json": {
       "model_id": "a11d4694cd6642bf90343646a45d6cf9",
       "version_major": 2,
       "version_minor": 0
      },
      "text/plain": [
       "Generating validation split:   0%|          | 0/450 [00:00<?, ? examples/s]"
      ]
     },
     "metadata": {},
     "output_type": "display_data"
    },
    {
     "data": {
      "application/vnd.jupyter.widget-view+json": {
       "model_id": "5f5cb76dc16240a388a306c1ff0aef61",
       "version_major": 2,
       "version_minor": 0
      },
      "text/plain": [
       "Generating test split:   0%|          | 0/450 [00:00<?, ? examples/s]"
      ]
     },
     "metadata": {},
     "output_type": "display_data"
    },
    {
     "data": {
      "text/plain": [
       "DatasetDict({\n",
       "    train: Dataset({\n",
       "        features: ['text', 'labels'],\n",
       "        num_rows: 2100\n",
       "    })\n",
       "    validation: Dataset({\n",
       "        features: ['text', 'labels'],\n",
       "        num_rows: 450\n",
       "    })\n",
       "    test: Dataset({\n",
       "        features: ['text', 'labels'],\n",
       "        num_rows: 450\n",
       "    })\n",
       "})"
      ]
     },
     "execution_count": 5,
     "metadata": {},
     "output_type": "execute_result"
    }
   ],
   "source": [
    "dataset_dict = load_dataset(\"shawhin/phishing-site-classification\")\n",
    "dataset_dict"
   ]
  },
  {
   "cell_type": "code",
   "execution_count": 6,
   "metadata": {
    "colab": {
     "base_uri": "https://localhost:8080/",
     "height": 209,
     "referenced_widgets": [
      "9c7ff4bd3bb445d3a4189a640be17c5d",
      "06372679d8fd4b6fa4c1176d891eec4d",
      "eb72e8fefcc74f6f9106c5f7c81e2be4",
      "1e1e2d10e05e46738d3b819ef7bdfa77",
      "22b4a7dbd56841b390efed0039a3a3f0",
      "180e9be89b184afbb47437f8a4ba82a8",
      "2fd2831a47ad44d5b0459d208c912e98",
      "9f4c6409e02b4007bb1dea6194a944c0",
      "f4c8f4f5e6c044749f9dfc5eca2d80ee",
      "4d857d4bd7564e81ae8077978699c89f",
      "0d926af3d9664079ae7dd7a39fafbba9",
      "ebe61c60299b46489128ecb6353d210f",
      "4b992a8e9b2144a2a078a01df9baf563",
      "23c3dfe2c3ed4c058fff7f07dd4fdbae",
      "a34df0c6ec9748db824c891485c2b362",
      "461a4626ac644160b3c0ff96ed33d815",
      "2d1d5947a0be40bebb70d8d737a8d767",
      "ab0796e248ac4a82a0a22fd9477cc356",
      "7ec2577f3f734341aaca32dae97bb8e0",
      "4d38879d9b8e4f04a04176f70ece4cb0",
      "69c9d3f862f647c8aece6b360e496b50",
      "c96b71410dfe4724be4480ff986c3dc1",
      "6638716c9aaa4a7489b2d8cc04c7d677",
      "e5255cef829945338f61d391cd9cdb29",
      "e51f4b4f6f5141a0bedde96caef6b78c",
      "8a98cff166974645a06ce23969f0f303",
      "17ff45c46e1a447ca40ddb7ccecb7b2e",
      "ad25bf6f3a0f4a0081ec643b5efe0c7f",
      "87edd8f8115b4fa5ad86fe414097d93c",
      "2b3ef2e2f33c41cd9920119f73227718",
      "df47d3c5dd2643e2bac23c84ebbb277e",
      "1885a29fc185423a96b48ac1805bb970",
      "3b79790950ac42299619ad95e20a2c3d",
      "00eb35fb01674da7850560fe2fe5c327",
      "2fa4a051beef478dbb7c751004a5c7b0",
      "dacd237173be4d9a9c40061668777bb7",
      "93fd644f71344884b663f6379885fe81",
      "54b5b160f6ef44e3813cf1423daa3a7d",
      "b92c07fbb9eb43028ab2f381992acbf4",
      "029d6fffbf1847e6b3333f41016121eb",
      "75b6cd3128ac4d208aeb3d237a18179a",
      "33e9fe933b684c6b9a77bb8022f0ce38",
      "40290966a0b148408ed70e3cf3e2faf9",
      "0ed0b5fbdd02491790c54dbe83723fb0",
      "4367df243c4446f39efc99a2990d7672",
      "cf4f756c4fe745ffa315ca887c117ae4",
      "0b9b36dc66e443128b823ef2643b5f3a",
      "0d0680ff8dc14276930bb1915ef5ced9",
      "4d634cd2169a4713ac894510df3127bd",
      "fe6ef3a5cef94449a473cb95f1faf7c4",
      "acb61a05593c44ebafe46f0c64341764",
      "1f11c2eecc1a4832bfb494201ad96432",
      "f9bd3bcd1e764e70a17e3a962bca7c02",
      "ff58741f938a411ab80ed764fd540b64",
      "725c907818f5407094691b6becaf1a57",
      "97e1a84e32ae4a5288aea1b491a650bf",
      "5fab8b780a0a499c8634f859a916bda2",
      "642fac2ec3204cccb4a665d59ceaa18c",
      "e4e4acf7e28b4979a73a9e8bb50e826d",
      "84bb888b11914fdd8ff8685f50ca95b9",
      "1ebb1d4617b04af7ac55e1d4f4c3ff68",
      "e84628c01e984e3f82761bffe9cdbf0b",
      "eeec9db0134a4c47bcce16be3e0bd23f",
      "339bdf63877043899f8eef28644d4707",
      "61c1230c83c74c2ca8fbfdc7a1c0a058",
      "d2ce7d5b8fa54aa6a5b6771008acb1bb"
     ]
    },
    "id": "f5orVoJFhFTL",
    "outputId": "3baecad8-b7da-4f54-cb8b-7e100536c2b0"
   },
   "outputs": [
    {
     "data": {
      "application/vnd.jupyter.widget-view+json": {
       "model_id": "9c7ff4bd3bb445d3a4189a640be17c5d",
       "version_major": 2,
       "version_minor": 0
      },
      "text/plain": [
       "tokenizer_config.json:   0%|          | 0.00/1.33k [00:00<?, ?B/s]"
      ]
     },
     "metadata": {},
     "output_type": "display_data"
    },
    {
     "data": {
      "application/vnd.jupyter.widget-view+json": {
       "model_id": "ebe61c60299b46489128ecb6353d210f",
       "version_major": 2,
       "version_minor": 0
      },
      "text/plain": [
       "vocab.txt:   0%|          | 0.00/232k [00:00<?, ?B/s]"
      ]
     },
     "metadata": {},
     "output_type": "display_data"
    },
    {
     "data": {
      "application/vnd.jupyter.widget-view+json": {
       "model_id": "6638716c9aaa4a7489b2d8cc04c7d677",
       "version_major": 2,
       "version_minor": 0
      },
      "text/plain": [
       "tokenizer.json:   0%|          | 0.00/712k [00:00<?, ?B/s]"
      ]
     },
     "metadata": {},
     "output_type": "display_data"
    },
    {
     "data": {
      "application/vnd.jupyter.widget-view+json": {
       "model_id": "00eb35fb01674da7850560fe2fe5c327",
       "version_major": 2,
       "version_minor": 0
      },
      "text/plain": [
       "special_tokens_map.json:   0%|          | 0.00/695 [00:00<?, ?B/s]"
      ]
     },
     "metadata": {},
     "output_type": "display_data"
    },
    {
     "data": {
      "application/vnd.jupyter.widget-view+json": {
       "model_id": "4367df243c4446f39efc99a2990d7672",
       "version_major": 2,
       "version_minor": 0
      },
      "text/plain": [
       "config.json:   0%|          | 0.00/541 [00:00<?, ?B/s]"
      ]
     },
     "metadata": {},
     "output_type": "display_data"
    },
    {
     "data": {
      "application/vnd.jupyter.widget-view+json": {
       "model_id": "97e1a84e32ae4a5288aea1b491a650bf",
       "version_major": 2,
       "version_minor": 0
      },
      "text/plain": [
       "model.safetensors:   0%|          | 0.00/211M [00:00<?, ?B/s]"
      ]
     },
     "metadata": {},
     "output_type": "display_data"
    }
   ],
   "source": [
    "from transformers import BitsAndBytesConfig\n",
    "import bitsandbytes as bnb\n",
    "\n",
    "device = torch.device('cuda')\n",
    "model_id = 'majorSeaweed/Bert_Uncased_FishingURL_distilled'\n",
    "tokenizer = AutoTokenizer.from_pretrained(model_id)\n",
    "nf4_config = BitsAndBytesConfig(\n",
    "    load_in_4bit=True,\n",
    "    bnb_4bit_quant_type=\"nf4\",\n",
    "    bnb_4bit_compute_dtype = torch.bfloat16,\n",
    "    bnb_4bit_use_double_quant=True\n",
    ")\n",
    "\n",
    "model_nf4 = AutoModelForSequenceClassification.from_pretrained(model_id, device_map=device, quantization_config=nf4_config)"
   ]
  },
  {
   "cell_type": "code",
   "execution_count": 8,
   "metadata": {
    "colab": {
     "base_uri": "https://localhost:8080/",
     "height": 113,
     "referenced_widgets": [
      "a3af6bc3125743ddad97963fcd250f61",
      "60acc3712110430aaab0d470102606f1",
      "a5bcef5ce6a8493f975b8574a7b1444c",
      "925cdee393434409bdb50dfcc490a6bb",
      "b98e549cb0f14e31b27c54ce054d1868",
      "fb49636c3aaa4103b40681f4f7983791",
      "10be0d7792154996981e2af0faa90786",
      "50c1b212e2874884b3798e79c5aaf8d9",
      "5bc8a938e17247538372895ebaaee787",
      "4d15cac1116e480bbf06e18d660f41e9",
      "f4ab6a51bbf940b19397183c61874dbd",
      "c7dbaa89a80c440696a5437d7948c811",
      "8f49a0e0aedd42988ba570b52e0dbd03",
      "0948a9e5b6184b3391e6626367b2311f",
      "9b79bd0485d04689837c877aac8f7302",
      "b53dd0ae15014683aee8541432c2fa20",
      "af9dff20c2e543ef8aaede87718e0eb6",
      "1bcef862893f43ac8b54eb009f1b1166",
      "90b1a755e42446479cb7b456aac3b91f",
      "f8f7ee9e656049138724f91276fc4e06",
      "dcd0195c853340eca4301de3c84c9f7b",
      "50ff9d8affa84374ad4adaefbd81dc9f",
      "87a3d75743e5403a9d731e62f429bb05",
      "d2a5a12854d9480283c90a863f81883d",
      "d94dbff602304fd8a362d7df063f2d64",
      "7e2815a55903418a8a1001a3fa4b1cdd",
      "237b2e458aec41bbafbf5c526704c1a6",
      "12e02960bb584fe2921bb2525291e4bc",
      "8765a5bd947340e2bea298c142bca328",
      "19da57b634d2456a98ee50d8b9ad44ba",
      "2a3d853f324f48cb8ef49fae0e571f73",
      "22fb6e8bf06c497a8d56295e5890359f",
      "13eaecb86ac64ea09b92bd8a078adadb"
     ]
    },
    "id": "4pVlWaSkh8lT",
    "outputId": "1fa243f0-57ee-4a0d-bfd2-2c8c6bab47cc"
   },
   "outputs": [
    {
     "data": {
      "application/vnd.jupyter.widget-view+json": {
       "model_id": "a3af6bc3125743ddad97963fcd250f61",
       "version_major": 2,
       "version_minor": 0
      },
      "text/plain": [
       "Map:   0%|          | 0/2100 [00:00<?, ? examples/s]"
      ]
     },
     "metadata": {},
     "output_type": "display_data"
    },
    {
     "data": {
      "application/vnd.jupyter.widget-view+json": {
       "model_id": "c7dbaa89a80c440696a5437d7948c811",
       "version_major": 2,
       "version_minor": 0
      },
      "text/plain": [
       "Map:   0%|          | 0/450 [00:00<?, ? examples/s]"
      ]
     },
     "metadata": {},
     "output_type": "display_data"
    },
    {
     "data": {
      "application/vnd.jupyter.widget-view+json": {
       "model_id": "87a3d75743e5403a9d731e62f429bb05",
       "version_major": 2,
       "version_minor": 0
      },
      "text/plain": [
       "Map:   0%|          | 0/450 [00:00<?, ? examples/s]"
      ]
     },
     "metadata": {},
     "output_type": "display_data"
    }
   ],
   "source": [
    "def preprocess_function(examples):\n",
    "    return tokenizer(examples[\"text\"], padding='max_length', truncation=True)\n",
    "tokenized_dataset = dataset_dict.map(preprocess_function, batched=True)\n",
    "tokenized_dataset.set_format(type='torch', columns=['input_ids', 'attention_mask', 'labels'])"
   ]
  },
  {
   "cell_type": "code",
   "execution_count": 10,
   "metadata": {
    "id": "-M4N3y4AiBEq"
   },
   "outputs": [],
   "source": [
    "def evaluate_model(model, dataloader, device):\n",
    "    model.eval()\n",
    "    all_preds = []\n",
    "    all_labels = []\n",
    "\n",
    "    with torch.no_grad():\n",
    "        for batch in dataloader:\n",
    "            input_ids = batch['input_ids'].to(device)\n",
    "            attention_mask = batch['attention_mask'].to(device)\n",
    "            labels = batch['labels'].to(device)\n",
    "\n",
    "            outputs = model(input_ids, attention_mask=attention_mask)\n",
    "            logits = outputs.logits\n",
    "\n",
    "            preds = torch.argmax(logits, dim=1).cpu().numpy()\n",
    "            all_preds.extend(preds)\n",
    "            all_labels.extend(labels.cpu().numpy())\n",
    "\n",
    "    accuracy = accuracy_score(all_labels, all_preds)\n",
    "    precision, recall, f1, _ = precision_recall_fscore_support(all_labels, all_preds, average='binary')\n",
    "\n",
    "    return accuracy, precision, recall, f1"
   ]
  },
  {
   "cell_type": "code",
   "execution_count": 11,
   "metadata": {
    "id": "4NQVX7JphMBZ"
   },
   "outputs": [],
   "source": [
    "validation_dataloader = DataLoader(tokenized_dataset['test'], batch_size=128)\n",
    "quantized_accuracy, quantized_precision, quantized_recall, quantized_f1 = evaluate_model(model_nf4, validation_dataloader, device)"
   ]
  },
  {
   "cell_type": "code",
   "execution_count": 12,
   "metadata": {
    "colab": {
     "base_uri": "https://localhost:8080/"
    },
    "id": "9cXvxaMdhWbi",
    "outputId": "79a0533a-01be-4c67-81b6-49b6465defc2"
   },
   "outputs": [
    {
     "name": "stdout",
     "output_type": "stream",
     "text": [
      "Post-quantization Performance\n",
      "Accuracy: 0.9156, Precision: 0.9401, Recall: 0.8908, F1 Score: 0.9148\n"
     ]
    }
   ],
   "source": [
    "print(\"Post-quantization Performance\")\n",
    "print(f\"Accuracy: {quantized_accuracy:.4f}, Precision: {quantized_precision:.4f}, Recall: {quantized_recall:.4f}, F1 Score: {quantized_f1:.4f}\")"
   ]
  }
 ],
 "metadata": {
  "accelerator": "GPU",
  "colab": {
   "gpuType": "T4",
   "provenance": []
  },
  "kernelspec": {
   "display_name": "Python 3",
   "name": "python3"
  },
  "language_info": {
   "name": "python"
  }
 },
 "nbformat": 4,
 "nbformat_minor": 0
}
